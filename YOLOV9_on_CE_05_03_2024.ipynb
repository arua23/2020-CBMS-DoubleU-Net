{
  "cells": [
    {
      "cell_type": "markdown",
      "metadata": {
        "id": "view-in-github",
        "colab_type": "text"
      },
      "source": [
        "<a href=\"https://colab.research.google.com/github/arua23/2020-CBMS-DoubleU-Net/blob/master/YOLOV9_on_CE_05_03_2024.ipynb\" target=\"_parent\"><img src=\"https://colab.research.google.com/assets/colab-badge.svg\" alt=\"Open In Colab\"/></a>"
      ]
    },
    {
      "cell_type": "code",
      "source": [
        "from google.colab import drive\n",
        "drive.mount('/content/drive')"
      ],
      "metadata": {
        "colab": {
          "base_uri": "https://localhost:8080/"
        },
        "id": "JqkQLnRPVIV4",
        "outputId": "9a743fb9-2cc6-4dd5-e185-ddf7ee7b2b5e"
      },
      "execution_count": null,
      "outputs": [
        {
          "output_type": "stream",
          "name": "stdout",
          "text": [
            "Mounted at /content/drive\n"
          ]
        }
      ]
    },
    {
      "cell_type": "markdown",
      "source": [
        "# Only run once, if not downloaded"
      ],
      "metadata": {
        "id": "avXrdrIuKpRB"
      }
    },
    {
      "cell_type": "code",
      "source": [
        "# !wget -P '/content/drive/MyDrive/Dataset/CE' 'https://data.mendeley.com/public-files/datasets/8p2hvgdvpn/files/99613858-4378-4f8a-9270-601206f59370/file_downloaded'"
      ],
      "metadata": {
        "id": "-taOMhl7KBkm"
      },
      "execution_count": null,
      "outputs": []
    },
    {
      "cell_type": "markdown",
      "source": [
        "# Only run once, if not already renamed"
      ],
      "metadata": {
        "id": "z_CXiPYcKnxL"
      }
    },
    {
      "cell_type": "code",
      "source": [
        "# !mv '/content/drive/MyDrive/Dataset/CE/file_downloaded' '/content/drive/MyDrive/Dataset/CE/file_downloaded.zip'"
      ],
      "metadata": {
        "id": "YUR8Z9CfKIOY"
      },
      "execution_count": null,
      "outputs": []
    },
    {
      "cell_type": "markdown",
      "source": [
        "# Only run once, if not unzipped already"
      ],
      "metadata": {
        "id": "ro2rzrjIKuJ5"
      }
    },
    {
      "cell_type": "code",
      "source": [
        "# !unzip '/content/drive/MyDrive/Dataset/CE/file_downloaded.zip' -d '/content/drive/MyDrive/Dataset/CE'"
      ],
      "metadata": {
        "id": "nq2ESFmMKlSU"
      },
      "execution_count": null,
      "outputs": []
    },
    {
      "cell_type": "markdown",
      "source": [
        "# Only run once, if not imported already"
      ],
      "metadata": {
        "id": "gUlzcE5xTiUN"
      }
    },
    {
      "cell_type": "code",
      "execution_count": null,
      "metadata": {
        "id": "xaN14l3i-Td4"
      },
      "outputs": [],
      "source": [
        "# %%capture\n",
        "# # import os, zipfile\n",
        "# import os\n",
        "# # from google.colab import drive\n",
        "# # drive.mount('/content/drive', force_remount=True)\n",
        "\n",
        "# dir_path = r'/content/drive/MyDrive/Dataset/CE/Chemical Apparatus Image Dataset'\n",
        "\n",
        "# from PIL import Image\n",
        "# import matplotlib.pyplot as plt\n",
        "# from tqdm import tqdm\n",
        "# import cv2\n",
        "\n",
        "# #Download sample yolo dataset\n",
        "# # os.makedirs(\"data\", exist_ok=True)\n",
        "# # # !wget \"https://github.com/pylabel-project/datasets_models/blob/main/coco128.zip?raw=true\" -O data/coco128.zip\n",
        "# # with zipfile.ZipFile(\"data/coco128.zip\", 'r') as zip_ref:\n",
        "# #    zip_ref.extractall(\"data\")"
      ]
    },
    {
      "cell_type": "markdown",
      "source": [
        "# Only run once, if not created already"
      ],
      "metadata": {
        "id": "25oMNfsgTk08"
      }
    },
    {
      "cell_type": "code",
      "source": [
        "# !mkdir '/content/drive/MyDrive/Dataset/CE/Chemical Apparatus Image Dataset/images' '/content/drive/MyDrive/Dataset/CE/Chemical Apparatus Image Dataset/labels'\n",
        "# !mkdir '/content/drive/MyDrive/Dataset/CE/Chemical Apparatus Image Dataset/images/train' '/content/drive/MyDrive/Dataset/CE/Chemical Apparatus Image Dataset/images/val' '/content/drive/MyDrive/Dataset/CE/Chemical Apparatus Image Dataset/images/test' '/content/drive/MyDrive/Dataset/CE/Chemical Apparatus Image Dataset/labels/train' '/content/drive/MyDrive/Dataset/CE/Chemical Apparatus Image Dataset/labels/val' '/content/drive/MyDrive/Dataset/CE/Chemical Apparatus Image Dataset/labels/test'"
      ],
      "metadata": {
        "id": "QuIsKe1DONvr"
      },
      "execution_count": null,
      "outputs": []
    },
    {
      "cell_type": "markdown",
      "source": [
        "# Only run once, if not defined already"
      ],
      "metadata": {
        "id": "isPPvEAzTmqx"
      }
    },
    {
      "cell_type": "code",
      "source": [
        "# import shutil\n",
        "\n",
        "# #Utility function to move images\n",
        "# def move_files_to_folder(list_of_files, destination_folder):\n",
        "#     for f in list_of_files:\n",
        "#         try:\n",
        "#             shutil.move(f, destination_folder)\n",
        "#         except:\n",
        "#             print(f)\n",
        "#             assert False\n"
      ],
      "metadata": {
        "id": "eTBJdTdZOQnT"
      },
      "execution_count": null,
      "outputs": []
    },
    {
      "cell_type": "markdown",
      "source": [
        "# Only run once, if not defined already"
      ],
      "metadata": {
        "id": "kuLsb9rWTqZV"
      }
    },
    {
      "cell_type": "code",
      "source": [
        "# train_images = [os.path.join('/content/drive/MyDrive/Dataset/CE/Chemical Apparatus Image Dataset/Train/Images', x) for x in os.listdir('/content/drive/MyDrive/Dataset/CE/Chemical Apparatus Image Dataset/Train/Images')]\n",
        "# train_annotations = [os.path.join('/content/drive/MyDrive/Dataset/CE/Chemical Apparatus Image Dataset/Train/Labels', x) for x in os.listdir('/content/drive/MyDrive/Dataset/CE/Chemical Apparatus Image Dataset/Train/Labels') if x[-3:] == \"txt\"]\n",
        "\n",
        "# test_images = [os.path.join('/content/drive/MyDrive/Dataset/CE/Chemical Apparatus Image Dataset/Test/Images', x) for x in os.listdir('/content/drive/MyDrive/Dataset/CE/Chemical Apparatus Image Dataset/Test/Images')]\n",
        "# test_annotations = [os.path.join('/content/drive/MyDrive/Dataset/CE/Chemical Apparatus Image Dataset/Test/Labels', x) for x in os.listdir('/content/drive/MyDrive/Dataset/CE/Chemical Apparatus Image Dataset/Test/Labels') if x[-3:] == \"txt\"]\n",
        "\n",
        "# valid_images = [os.path.join('/content/drive/MyDrive/Dataset/CE/Chemical Apparatus Image Dataset/Valid/Images', x) for x in os.listdir('/content/drive/MyDrive/Dataset/CE/Chemical Apparatus Image Dataset/Valid/Images')]\n",
        "# valid_annotations = [os.path.join('/content/drive/MyDrive/Dataset/CE/Chemical Apparatus Image Dataset/Valid/Labels', x) for x in os.listdir('/content/drive/MyDrive/Dataset/CE/Chemical Apparatus Image Dataset/Valid/Labels') if x[-3:] == \"txt\"]"
      ],
      "metadata": {
        "id": "trHjwRW3MASK"
      },
      "execution_count": null,
      "outputs": []
    },
    {
      "cell_type": "code",
      "source": [
        "# print(len(train_images), len(train_annotations))\n",
        "# print(len(test_images), len(test_annotations))\n",
        "# print(len(valid_images), len(valid_annotations))\n"
      ],
      "metadata": {
        "id": "qyWjA9x7RyKd"
      },
      "execution_count": null,
      "outputs": []
    },
    {
      "cell_type": "markdown",
      "source": [
        "# Only run once, if not moved already"
      ],
      "metadata": {
        "id": "9idvmnt9TuSs"
      }
    },
    {
      "cell_type": "code",
      "source": [
        "# # Move the splits into their folders\n",
        "# move_files_to_folder(train_images, '/content/drive/MyDrive/Dataset/CE/Chemical Apparatus Image Dataset/images/train')\n",
        "# move_files_to_folder(valid_images, '/content/drive/MyDrive/Dataset/CE/Chemical Apparatus Image Dataset/images/val/')\n",
        "# move_files_to_folder(test_images, '/content/drive/MyDrive/Dataset/CE/Chemical Apparatus Image Dataset/images/test/')\n",
        "# move_files_to_folder(train_annotations, '/content/drive/MyDrive/Dataset/CE/Chemical Apparatus Image Dataset/labels/train/')\n",
        "# move_files_to_folder(valid_annotations, '/content/drive/MyDrive/Dataset/CE/Chemical Apparatus Image Dataset/labels/val/')\n",
        "# move_files_to_folder(test_annotations, '/content/drive/MyDrive/Dataset/CE/Chemical Apparatus Image Dataset/labels/test/')"
      ],
      "metadata": {
        "id": "-PcvsUJ6OR5j"
      },
      "execution_count": null,
      "outputs": []
    },
    {
      "cell_type": "markdown",
      "source": [
        "# RUN AFTER THIS"
      ],
      "metadata": {
        "id": "-fJqKvEBTw7e"
      }
    },
    {
      "cell_type": "code",
      "source": [
        "!git clone https://github.com/SkalskiP/yolov9.git\n",
        "%cd yolov9\n",
        "!pip install -r requirements.txt -q"
      ],
      "metadata": {
        "colab": {
          "base_uri": "https://localhost:8080/"
        },
        "id": "JLxImMmYbAVy",
        "outputId": "95dbd190-bac7-42b6-8a9f-5c851a05a8b9"
      },
      "execution_count": null,
      "outputs": [
        {
          "output_type": "stream",
          "name": "stdout",
          "text": [
            "Cloning into 'yolov9'...\n",
            "remote: Enumerating objects: 147, done.\u001b[K\n",
            "remote: Total 147 (delta 0), reused 0 (delta 0), pack-reused 147\u001b[K\n",
            "Receiving objects: 100% (147/147), 607.53 KiB | 4.75 MiB/s, done.\n",
            "Resolving deltas: 100% (58/58), done.\n",
            "/content/yolov9\n",
            "\u001b[2K     \u001b[90m━━━━━━━━━━━━━━━━━━━━━━━━━━━━━━━━━━━━━━━━\u001b[0m \u001b[32m195.4/195.4 kB\u001b[0m \u001b[31m2.3 MB/s\u001b[0m eta \u001b[36m0:00:00\u001b[0m\n",
            "\u001b[2K     \u001b[90m━━━━━━━━━━━━━━━━━━━━━━━━━━━━━━━━━━━━━━━━\u001b[0m \u001b[32m62.7/62.7 kB\u001b[0m \u001b[31m7.6 MB/s\u001b[0m eta \u001b[36m0:00:00\u001b[0m\n",
            "\u001b[2K     \u001b[90m━━━━━━━━━━━━━━━━━━━━━━━━━━━━━━━━━━━━━━━━\u001b[0m \u001b[32m1.6/1.6 MB\u001b[0m \u001b[31m16.5 MB/s\u001b[0m eta \u001b[36m0:00:00\u001b[0m\n",
            "\u001b[?25h"
          ]
        }
      ]
    },
    {
      "cell_type": "code",
      "source": [
        "!wget -P {HOME}/weights -q https://github.com/WongKinYiu/yolov9/releases/download/v0.1/yolov9-c.pt\n",
        "!wget -P {HOME}/weights -q https://github.com/WongKinYiu/yolov9/releases/download/v0.1/yolov9-e.pt\n",
        "!wget -P {HOME}/weights -q https://github.com/WongKinYiu/yolov9/releases/download/v0.1/gelan-c.pt\n",
        "!wget -P {HOME}/weights -q https://github.com/WongKinYiu/yolov9/releases/download/v0.1/gelan-e.pt"
      ],
      "metadata": {
        "id": "gtJ9IM7uwn7w"
      },
      "execution_count": null,
      "outputs": []
    },
    {
      "cell_type": "code",
      "source": [
        "%cd {HOME}/yolov9\n",
        "\n",
        "!python train.py \\\n",
        "--batch 16 --epochs 100 --img 640 --device 0 --min-items 0 --close-mosaic 15 \\\n",
        "--data '/content/drive/MyDrive/Dataset/CE/ce.yaml' \\\n",
        "--weights {HOME}/weights/gelan-c.pt \\\n",
        "--cfg models/detect/gelan-c.yaml \\\n",
        "--hyp hyp.scratch-high.yaml \\\n",
        "--project '/content/drive/MyDrive/Dataset/CE/yolov9/'"
      ],
      "metadata": {
        "colab": {
          "base_uri": "https://localhost:8080/"
        },
        "id": "Hu6VpvGlxAG2",
        "outputId": "8d3f4c9d-7ed2-404e-9449-e1dd2f38c810"
      },
      "execution_count": null,
      "outputs": [
        {
          "output_type": "stream",
          "name": "stdout",
          "text": [
            "[Errno 2] No such file or directory: '{HOME}/yolov9'\n",
            "/content/yolov9\n",
            "2024-03-05 19:08:17.337938: E external/local_xla/xla/stream_executor/cuda/cuda_dnn.cc:9261] Unable to register cuDNN factory: Attempting to register factory for plugin cuDNN when one has already been registered\n",
            "2024-03-05 19:08:17.337991: E external/local_xla/xla/stream_executor/cuda/cuda_fft.cc:607] Unable to register cuFFT factory: Attempting to register factory for plugin cuFFT when one has already been registered\n",
            "2024-03-05 19:08:17.339378: E external/local_xla/xla/stream_executor/cuda/cuda_blas.cc:1515] Unable to register cuBLAS factory: Attempting to register factory for plugin cuBLAS when one has already been registered\n",
            "2024-03-05 19:08:18.458501: W tensorflow/compiler/tf2tensorrt/utils/py_utils.cc:38] TF-TRT Warning: Could not find TensorRT\n",
            "\u001b[34m\u001b[1mtrain: \u001b[0mweights={HOME}/weights/gelan-c.pt, cfg=models/detect/gelan-c.yaml, data=/content/drive/MyDrive/Dataset/CE/ce.yaml, hyp=hyp.scratch-high.yaml, epochs=100, batch_size=16, imgsz=640, rect=False, resume=False, nosave=False, noval=False, noautoanchor=False, noplots=False, evolve=None, bucket=, cache=None, image_weights=False, device=0, multi_scale=False, single_cls=False, optimizer=SGD, sync_bn=False, workers=8, project=/content/drive/MyDrive/Dataset/CE/yolov9/, name=exp, exist_ok=False, quad=False, cos_lr=False, flat_cos_lr=False, fixed_lr=False, label_smoothing=0.0, patience=100, freeze=[0], save_period=-1, seed=0, local_rank=-1, min_items=0, close_mosaic=15, entity=None, upload_dataset=False, bbox_interval=-1, artifact_alias=latest\n",
            "YOLOv5 🚀 1e33dbb Python-3.10.12 torch-2.1.0+cu121 CUDA:0 (Tesla T4, 15102MiB)\n",
            "\n",
            "\u001b[34m\u001b[1mhyperparameters: \u001b[0mlr0=0.01, lrf=0.01, momentum=0.937, weight_decay=0.0005, warmup_epochs=3.0, warmup_momentum=0.8, warmup_bias_lr=0.1, box=7.5, cls=0.5, cls_pw=1.0, dfl=1.5, obj_pw=1.0, iou_t=0.2, anchor_t=5.0, fl_gamma=0.0, hsv_h=0.015, hsv_s=0.7, hsv_v=0.4, degrees=0.0, translate=0.1, scale=0.9, shear=0.0, perspective=0.0, flipud=0.0, fliplr=0.5, mosaic=1.0, mixup=0.15, copy_paste=0.3\n",
            "\u001b[34m\u001b[1mClearML: \u001b[0mrun 'pip install clearml' to automatically track, visualize and remotely train YOLO 🚀 in ClearML\n",
            "\u001b[34m\u001b[1mComet: \u001b[0mrun 'pip install comet_ml' to automatically track and visualize YOLO 🚀 runs in Comet\n",
            "\u001b[34m\u001b[1mTensorBoard: \u001b[0mStart with 'tensorboard --logdir /content/drive/MyDrive/Dataset/CE/yolov9', view at http://localhost:6006/\n",
            "Downloading https://ultralytics.com/assets/Arial.ttf to /root/.config/Ultralytics/Arial.ttf...\n",
            "100% 755k/755k [00:00<00:00, 17.0MB/s]\n",
            "Overriding model.yaml nc=80 with nc=7\n",
            "\n",
            "                 from  n    params  module                                  arguments                     \n",
            "  0                -1  1      1856  models.common.Conv                      [3, 64, 3, 2]                 \n",
            "  1                -1  1     73984  models.common.Conv                      [64, 128, 3, 2]               \n",
            "  2                -1  1    212864  models.common.RepNCSPELAN4              [128, 256, 128, 64, 1]        \n",
            "  3                -1  1    164352  models.common.ADown                     [256, 256]                    \n",
            "  4                -1  1    847616  models.common.RepNCSPELAN4              [256, 512, 256, 128, 1]       \n",
            "  5                -1  1    656384  models.common.ADown                     [512, 512]                    \n",
            "  6                -1  1   2857472  models.common.RepNCSPELAN4              [512, 512, 512, 256, 1]       \n",
            "  7                -1  1    656384  models.common.ADown                     [512, 512]                    \n",
            "  8                -1  1   2857472  models.common.RepNCSPELAN4              [512, 512, 512, 256, 1]       \n",
            "  9                -1  1    656896  models.common.SPPELAN                   [512, 512, 256]               \n",
            " 10                -1  1         0  torch.nn.modules.upsampling.Upsample    [None, 2, 'nearest']          \n",
            " 11           [-1, 6]  1         0  models.common.Concat                    [1]                           \n",
            " 12                -1  1   3119616  models.common.RepNCSPELAN4              [1024, 512, 512, 256, 1]      \n",
            " 13                -1  1         0  torch.nn.modules.upsampling.Upsample    [None, 2, 'nearest']          \n",
            " 14           [-1, 4]  1         0  models.common.Concat                    [1]                           \n",
            " 15                -1  1    912640  models.common.RepNCSPELAN4              [1024, 256, 256, 128, 1]      \n",
            " 16                -1  1    164352  models.common.ADown                     [256, 256]                    \n",
            " 17          [-1, 12]  1         0  models.common.Concat                    [1]                           \n",
            " 18                -1  1   2988544  models.common.RepNCSPELAN4              [768, 512, 512, 256, 1]       \n",
            " 19                -1  1    656384  models.common.ADown                     [512, 512]                    \n",
            " 20           [-1, 9]  1         0  models.common.Concat                    [1]                           \n",
            " 21                -1  1   3119616  models.common.RepNCSPELAN4              [1024, 512, 512, 256, 1]      \n",
            " 22      [15, 18, 21]  1   5496037  models.yolo.DDetect                     [7, [256, 512, 512]]          \n",
            "gelan-c summary: 621 layers, 25442469 parameters, 25442453 gradients, 103.2 GFLOPs\n",
            "\n",
            "Transferred 931/937 items from {HOME}/weights/gelan-c.pt\n",
            "\u001b[34m\u001b[1mAMP: \u001b[0mchecks passed ✅\n",
            "\u001b[34m\u001b[1moptimizer:\u001b[0m SGD(lr=0.01) with parameter groups 154 weight(decay=0.0), 161 weight(decay=0.0005), 160 bias\n",
            "\u001b[34m\u001b[1malbumentations: \u001b[0mBlur(p=0.01, blur_limit=(3, 7)), MedianBlur(p=0.01, blur_limit=(3, 7)), ToGray(p=0.01), CLAHE(p=0.01, clip_limit=(1, 4.0), tile_grid_size=(8, 8))\n",
            "\u001b[34m\u001b[1mtrain: \u001b[0mScanning /content/drive/.shortcut-targets-by-id/16Ekdf4KgeevgnLln8Hw0bK8l5OBUBxb2/Dataset/CE/Chemical Apparatus Image Dataset/labels/train.cache... 4303 images, 0 backgrounds, 0 corrupt: 100% 4303/4303 [00:00<?, ?it/s]\n",
            "\u001b[34m\u001b[1mval: \u001b[0mScanning /content/drive/.shortcut-targets-by-id/16Ekdf4KgeevgnLln8Hw0bK8l5OBUBxb2/Dataset/CE/Chemical Apparatus Image Dataset/labels/val.cache... 570 images, 0 backgrounds, 0 corrupt: 100% 570/570 [00:00<?, ?it/s]\n",
            "Plotting labels to /content/drive/MyDrive/Dataset/CE/yolov9/exp3/labels.jpg... \n",
            "Image sizes 640 train, 640 val\n",
            "Using 2 dataloader workers\n",
            "Logging results to \u001b[1m/content/drive/MyDrive/Dataset/CE/yolov9/exp3\u001b[0m\n",
            "Starting training for 100 epochs...\n",
            "\n",
            "      Epoch    GPU_mem   box_loss   cls_loss   dfl_loss  Instances       Size\n",
            "       0/99      11.3G     0.9278      1.698      1.184         78        640: 100% 269/269 [28:22<00:00,  6.33s/it]\n",
            "                 Class     Images  Instances          P          R      mAP50   mAP50-95: 100% 18/18 [00:34<00:00,  1.89s/it]\n",
            "                   all        570       1775      0.811      0.742      0.838       0.67\n",
            "\n",
            "      Epoch    GPU_mem   box_loss   cls_loss   dfl_loss  Instances       Size\n",
            "       1/99      11.7G     0.8095     0.9401      1.074         86        640: 100% 269/269 [14:01<00:00,  3.13s/it]\n",
            "                 Class     Images  Instances          P          R      mAP50   mAP50-95: 100% 18/18 [00:29<00:00,  1.64s/it]\n",
            "                   all        570       1775      0.789      0.742      0.822      0.648\n",
            "\n",
            "      Epoch    GPU_mem   box_loss   cls_loss   dfl_loss  Instances       Size\n",
            "       2/99      11.7G     0.8866     0.9843       1.12        120        640: 100% 269/269 [14:16<00:00,  3.19s/it]\n",
            "                 Class     Images  Instances          P          R      mAP50   mAP50-95: 100% 18/18 [00:30<00:00,  1.70s/it]\n",
            "                   all        570       1775       0.68      0.673      0.728       0.55\n",
            "\n",
            "      Epoch    GPU_mem   box_loss   cls_loss   dfl_loss  Instances       Size\n",
            "       3/99      12.1G     0.9688      1.045      1.172         73        640: 100% 269/269 [13:47<00:00,  3.08s/it]\n",
            "                 Class     Images  Instances          P          R      mAP50   mAP50-95: 100% 18/18 [00:29<00:00,  1.63s/it]\n",
            "                   all        570       1775      0.701      0.614      0.704      0.516\n",
            "\n",
            "      Epoch    GPU_mem   box_loss   cls_loss   dfl_loss  Instances       Size\n",
            "       4/99      12.1G     0.9601      1.026      1.163        147        640: 100% 269/269 [13:44<00:00,  3.06s/it]\n",
            "                 Class     Images  Instances          P          R      mAP50   mAP50-95: 100% 18/18 [00:29<00:00,  1.65s/it]\n",
            "                   all        570       1775      0.739      0.697      0.771      0.584\n",
            "\n",
            "      Epoch    GPU_mem   box_loss   cls_loss   dfl_loss  Instances       Size\n",
            "       5/99        13G     0.9289     0.9623      1.154        159        640: 100% 269/269 [13:56<00:00,  3.11s/it]\n",
            "                 Class     Images  Instances          P          R      mAP50   mAP50-95: 100% 18/18 [00:29<00:00,  1.67s/it]\n",
            "                   all        570       1775      0.738      0.676      0.754      0.577\n",
            "\n",
            "      Epoch    GPU_mem   box_loss   cls_loss   dfl_loss  Instances       Size\n",
            "       6/99        13G     0.9033     0.9183      1.135        155        640: 100% 269/269 [13:55<00:00,  3.11s/it]\n",
            "                 Class     Images  Instances          P          R      mAP50   mAP50-95: 100% 18/18 [00:30<00:00,  1.67s/it]\n",
            "                   all        570       1775      0.731      0.729      0.798      0.622\n",
            "\n",
            "      Epoch    GPU_mem   box_loss   cls_loss   dfl_loss  Instances       Size\n",
            "       7/99        13G     0.8837      0.903       1.13         73        640: 100% 269/269 [14:07<00:00,  3.15s/it]\n",
            "                 Class     Images  Instances          P          R      mAP50   mAP50-95: 100% 18/18 [00:29<00:00,  1.67s/it]\n",
            "                   all        570       1775      0.747      0.698      0.769      0.583\n",
            "\n",
            "      Epoch    GPU_mem   box_loss   cls_loss   dfl_loss  Instances       Size\n",
            "       8/99        13G     0.8763     0.8745      1.123        109        640: 100% 269/269 [14:07<00:00,  3.15s/it]\n",
            "                 Class     Images  Instances          P          R      mAP50   mAP50-95: 100% 18/18 [00:29<00:00,  1.66s/it]\n",
            "                   all        570       1775      0.767       0.72      0.787      0.616\n",
            "\n",
            "      Epoch    GPU_mem   box_loss   cls_loss   dfl_loss  Instances       Size\n",
            "       9/99        13G     0.8628     0.8449      1.112        127        640: 100% 269/269 [14:12<00:00,  3.17s/it]\n",
            "                 Class     Images  Instances          P          R      mAP50   mAP50-95: 100% 18/18 [00:29<00:00,  1.64s/it]\n",
            "                   all        570       1775      0.761      0.746      0.823      0.639\n",
            "\n",
            "      Epoch    GPU_mem   box_loss   cls_loss   dfl_loss  Instances       Size\n",
            "      10/99        13G     0.8419     0.8152        1.1         82        640: 100% 269/269 [14:15<00:00,  3.18s/it]\n",
            "                 Class     Images  Instances          P          R      mAP50   mAP50-95: 100% 18/18 [00:29<00:00,  1.64s/it]\n",
            "                   all        570       1775      0.771      0.714      0.792      0.624\n",
            "\n",
            "      Epoch    GPU_mem   box_loss   cls_loss   dfl_loss  Instances       Size\n",
            "      11/99        13G     0.8377     0.8155      1.097         87        640: 100% 269/269 [14:17<00:00,  3.19s/it]\n",
            "                 Class     Images  Instances          P          R      mAP50   mAP50-95: 100% 18/18 [00:30<00:00,  1.68s/it]\n",
            "                   all        570       1775      0.787      0.744      0.814      0.653\n",
            "\n",
            "      Epoch    GPU_mem   box_loss   cls_loss   dfl_loss  Instances       Size\n",
            "      12/99        13G     0.8126     0.7777      1.084         93        640: 100% 269/269 [14:21<00:00,  3.20s/it]\n",
            "                 Class     Images  Instances          P          R      mAP50   mAP50-95: 100% 18/18 [00:29<00:00,  1.64s/it]\n",
            "                   all        570       1775      0.802      0.749      0.834      0.682\n",
            "\n",
            "      Epoch    GPU_mem   box_loss   cls_loss   dfl_loss  Instances       Size\n",
            "      13/99        13G     0.7939      0.765      1.078        109        640: 100% 269/269 [14:05<00:00,  3.14s/it]\n",
            "                 Class     Images  Instances          P          R      mAP50   mAP50-95: 100% 18/18 [00:29<00:00,  1.63s/it]\n",
            "                   all        570       1775      0.814      0.767      0.843      0.673\n",
            "\n",
            "      Epoch    GPU_mem   box_loss   cls_loss   dfl_loss  Instances       Size\n",
            "      14/99        13G     0.7913     0.7457      1.074         95        640: 100% 269/269 [14:40<00:00,  3.27s/it]\n",
            "                 Class     Images  Instances          P          R      mAP50   mAP50-95: 100% 18/18 [00:29<00:00,  1.67s/it]\n",
            "                   all        570       1775      0.819      0.749      0.843      0.673\n",
            "\n",
            "      Epoch    GPU_mem   box_loss   cls_loss   dfl_loss  Instances       Size\n",
            "      15/99        13G     0.7835     0.7354      1.061         70        640: 100% 269/269 [14:21<00:00,  3.20s/it]\n",
            "                 Class     Images  Instances          P          R      mAP50   mAP50-95: 100% 18/18 [00:30<00:00,  1.72s/it]\n",
            "                   all        570       1775      0.783      0.783      0.845      0.674\n",
            "\n",
            "      Epoch    GPU_mem   box_loss   cls_loss   dfl_loss  Instances       Size\n",
            "      16/99        13G     0.7723     0.7271      1.061        107        640: 100% 269/269 [14:20<00:00,  3.20s/it]\n",
            "                 Class     Images  Instances          P          R      mAP50   mAP50-95: 100% 18/18 [00:29<00:00,  1.66s/it]\n",
            "                   all        570       1775      0.834      0.763      0.855      0.684\n",
            "\n",
            "      Epoch    GPU_mem   box_loss   cls_loss   dfl_loss  Instances       Size\n",
            "      17/99        13G     0.7639     0.7127      1.056        142        640: 100% 269/269 [14:10<00:00,  3.16s/it]\n",
            "                 Class     Images  Instances          P          R      mAP50   mAP50-95: 100% 18/18 [00:29<00:00,  1.63s/it]\n",
            "                   all        570       1775      0.819      0.774      0.845      0.685\n",
            "\n",
            "      Epoch    GPU_mem   box_loss   cls_loss   dfl_loss  Instances       Size\n",
            "      18/99        13G     0.7559     0.6999      1.049        127        640: 100% 269/269 [14:20<00:00,  3.20s/it]\n",
            "                 Class     Images  Instances          P          R      mAP50   mAP50-95: 100% 18/18 [00:30<00:00,  1.67s/it]\n",
            "                   all        570       1775      0.809       0.77      0.845      0.693\n",
            "\n",
            "      Epoch    GPU_mem   box_loss   cls_loss   dfl_loss  Instances       Size\n",
            "      19/99        13G     0.7389     0.6791      1.035        124        640: 100% 269/269 [14:16<00:00,  3.18s/it]\n",
            "                 Class     Images  Instances          P          R      mAP50   mAP50-95: 100% 18/18 [00:29<00:00,  1.63s/it]\n",
            "                   all        570       1775      0.828      0.749      0.837      0.678\n",
            "\n",
            "      Epoch    GPU_mem   box_loss   cls_loss   dfl_loss  Instances       Size\n",
            "      20/99        13G     0.7348     0.6664      1.038        150        640: 100% 269/269 [14:14<00:00,  3.18s/it]\n",
            "                 Class     Images  Instances          P          R      mAP50   mAP50-95: 100% 18/18 [00:30<00:00,  1.68s/it]\n",
            "                   all        570       1775      0.786      0.773      0.837      0.676\n",
            "\n",
            "      Epoch    GPU_mem   box_loss   cls_loss   dfl_loss  Instances       Size\n",
            "      21/99        13G     0.7337     0.6706      1.036        123        640: 100% 269/269 [14:16<00:00,  3.18s/it]\n",
            "                 Class     Images  Instances          P          R      mAP50   mAP50-95: 100% 18/18 [00:29<00:00,  1.66s/it]\n",
            "                   all        570       1775      0.815      0.802      0.863      0.707\n",
            "\n",
            "      Epoch    GPU_mem   box_loss   cls_loss   dfl_loss  Instances       Size\n",
            "      22/99        13G     0.7287     0.6679      1.034        103        640: 100% 269/269 [14:19<00:00,  3.20s/it]\n",
            "                 Class     Images  Instances          P          R      mAP50   mAP50-95: 100% 18/18 [00:29<00:00,  1.65s/it]\n",
            "                   all        570       1775      0.821      0.769      0.842      0.689\n",
            "\n",
            "      Epoch    GPU_mem   box_loss   cls_loss   dfl_loss  Instances       Size\n",
            "      23/99        13G     0.7163       0.65      1.025         80        640: 100% 269/269 [13:59<00:00,  3.12s/it]\n",
            "                 Class     Images  Instances          P          R      mAP50   mAP50-95: 100% 18/18 [00:29<00:00,  1.64s/it]\n",
            "                   all        570       1775      0.799      0.772      0.841      0.689\n",
            "\n",
            "      Epoch    GPU_mem   box_loss   cls_loss   dfl_loss  Instances       Size\n",
            "      24/99        13G     0.7124     0.6439      1.021         90        640: 100% 269/269 [14:09<00:00,  3.16s/it]\n",
            "                 Class     Images  Instances          P          R      mAP50   mAP50-95: 100% 18/18 [00:30<00:00,  1.68s/it]\n",
            "                   all        570       1775      0.802       0.79      0.855      0.709\n",
            "\n",
            "      Epoch    GPU_mem   box_loss   cls_loss   dfl_loss  Instances       Size\n",
            "      25/99        13G     0.7171      0.643      1.026         85        640: 100% 269/269 [14:14<00:00,  3.18s/it]\n",
            "                 Class     Images  Instances          P          R      mAP50   mAP50-95: 100% 18/18 [00:30<00:00,  1.72s/it]\n",
            "                   all        570       1775       0.77      0.812      0.859      0.709\n",
            "\n",
            "      Epoch    GPU_mem   box_loss   cls_loss   dfl_loss  Instances       Size\n",
            "      26/99        13G      0.702     0.6248      1.016        104        640: 100% 269/269 [14:19<00:00,  3.19s/it]\n",
            "                 Class     Images  Instances          P          R      mAP50   mAP50-95: 100% 18/18 [00:29<00:00,  1.65s/it]\n",
            "                   all        570       1775      0.829      0.783      0.861      0.712\n",
            "\n",
            "      Epoch    GPU_mem   box_loss   cls_loss   dfl_loss  Instances       Size\n",
            "      27/99        13G     0.6961     0.6107      1.009        117        640: 100% 269/269 [14:20<00:00,  3.20s/it]\n",
            "                 Class     Images  Instances          P          R      mAP50   mAP50-95: 100% 18/18 [00:29<00:00,  1.65s/it]\n",
            "                   all        570       1775      0.807      0.793      0.865      0.712\n",
            "\n",
            "      Epoch    GPU_mem   box_loss   cls_loss   dfl_loss  Instances       Size\n",
            "      28/99        13G     0.6852     0.6118      1.009         86        640: 100% 269/269 [14:10<00:00,  3.16s/it]\n",
            "                 Class     Images  Instances          P          R      mAP50   mAP50-95: 100% 18/18 [00:29<00:00,  1.66s/it]\n",
            "                   all        570       1775      0.796      0.783      0.842      0.699\n",
            "\n",
            "      Epoch    GPU_mem   box_loss   cls_loss   dfl_loss  Instances       Size\n",
            "      29/99        13G     0.6862     0.6134      1.011         80        640: 100% 269/269 [14:12<00:00,  3.17s/it]\n",
            "                 Class     Images  Instances          P          R      mAP50   mAP50-95: 100% 18/18 [00:29<00:00,  1.65s/it]\n",
            "                   all        570       1775      0.824      0.804      0.872      0.729\n",
            "\n",
            "      Epoch    GPU_mem   box_loss   cls_loss   dfl_loss  Instances       Size\n",
            "      30/99        13G     0.6813     0.6009      1.005        139        640: 100% 269/269 [14:15<00:00,  3.18s/it]\n",
            "                 Class     Images  Instances          P          R      mAP50   mAP50-95: 100% 18/18 [00:29<00:00,  1.66s/it]\n",
            "                   all        570       1775      0.822      0.797      0.868      0.725\n",
            "\n",
            "      Epoch    GPU_mem   box_loss   cls_loss   dfl_loss  Instances       Size\n",
            "      31/99        13G      0.676     0.5896          1        132        640: 100% 269/269 [14:14<00:00,  3.18s/it]\n",
            "                 Class     Images  Instances          P          R      mAP50   mAP50-95: 100% 18/18 [00:30<00:00,  1.70s/it]\n",
            "                   all        570       1775      0.814      0.801      0.868      0.722\n",
            "\n",
            "      Epoch    GPU_mem   box_loss   cls_loss   dfl_loss  Instances       Size\n",
            "      32/99        13G       0.67     0.5872          1        121        640: 100% 269/269 [14:09<00:00,  3.16s/it]\n",
            "                 Class     Images  Instances          P          R      mAP50   mAP50-95: 100% 18/18 [00:30<00:00,  1.68s/it]\n",
            "                   all        570       1775      0.832      0.787      0.875      0.728\n",
            "\n",
            "      Epoch    GPU_mem   box_loss   cls_loss   dfl_loss  Instances       Size\n",
            "      33/99        13G     0.6629     0.5784      1.001        146        640: 100% 269/269 [14:20<00:00,  3.20s/it]\n",
            "                 Class     Images  Instances          P          R      mAP50   mAP50-95: 100% 18/18 [00:30<00:00,  1.68s/it]\n",
            "                   all        570       1775      0.804      0.837      0.872      0.727\n",
            "\n",
            "      Epoch    GPU_mem   box_loss   cls_loss   dfl_loss  Instances       Size\n",
            "      34/99        13G     0.6605     0.5722     0.9948        108        640: 100% 269/269 [14:17<00:00,  3.19s/it]\n",
            "                 Class     Images  Instances          P          R      mAP50   mAP50-95: 100% 18/18 [00:29<00:00,  1.64s/it]\n",
            "                   all        570       1775      0.835       0.79      0.868      0.725\n",
            "\n",
            "      Epoch    GPU_mem   box_loss   cls_loss   dfl_loss  Instances       Size\n",
            "      35/99        13G     0.6565     0.5724     0.9882        118        640: 100% 269/269 [14:24<00:00,  3.21s/it]\n",
            "                 Class     Images  Instances          P          R      mAP50   mAP50-95: 100% 18/18 [00:29<00:00,  1.65s/it]\n",
            "                   all        570       1775      0.836      0.799      0.866      0.729\n",
            "\n",
            "      Epoch    GPU_mem   box_loss   cls_loss   dfl_loss  Instances       Size\n",
            "      36/99        13G     0.6567     0.5691     0.9917         68        640: 100% 269/269 [14:09<00:00,  3.16s/it]\n",
            "                 Class     Images  Instances          P          R      mAP50   mAP50-95: 100% 18/18 [00:29<00:00,  1.63s/it]\n",
            "                   all        570       1775      0.815      0.808      0.866       0.73\n",
            "\n",
            "      Epoch    GPU_mem   box_loss   cls_loss   dfl_loss  Instances       Size\n",
            "      37/99        13G     0.6486     0.5577      0.987        113        640: 100% 269/269 [14:21<00:00,  3.20s/it]\n",
            "                 Class     Images  Instances          P          R      mAP50   mAP50-95: 100% 18/18 [00:29<00:00,  1.66s/it]\n",
            "                   all        570       1775      0.863      0.739      0.848      0.708\n",
            "\n",
            "      Epoch    GPU_mem   box_loss   cls_loss   dfl_loss  Instances       Size\n",
            "      38/99        13G     0.6425     0.5497     0.9811         89        640: 100% 269/269 [14:18<00:00,  3.19s/it]\n",
            "                 Class     Images  Instances          P          R      mAP50   mAP50-95: 100% 18/18 [00:31<00:00,  1.77s/it]\n",
            "                   all        570       1775      0.811      0.801      0.863      0.727\n",
            "\n",
            "      Epoch    GPU_mem   box_loss   cls_loss   dfl_loss  Instances       Size\n",
            "      39/99        13G     0.6505     0.5498     0.9848         54        640: 100% 269/269 [14:31<00:00,  3.24s/it]\n",
            "                 Class     Images  Instances          P          R      mAP50   mAP50-95: 100% 18/18 [00:30<00:00,  1.68s/it]\n",
            "                   all        570       1775       0.82      0.794      0.862      0.727\n",
            "\n",
            "      Epoch    GPU_mem   box_loss   cls_loss   dfl_loss  Instances       Size\n",
            "      40/99        13G     0.6291     0.5388     0.9803        124        640: 100% 269/269 [14:28<00:00,  3.23s/it]\n",
            "                 Class     Images  Instances          P          R      mAP50   mAP50-95: 100% 18/18 [00:30<00:00,  1.68s/it]\n",
            "                   all        570       1775       0.83      0.785      0.864      0.729\n",
            "\n",
            "      Epoch    GPU_mem   box_loss   cls_loss   dfl_loss  Instances       Size\n",
            "      41/99        13G     0.6312      0.532     0.9766        106        640: 100% 269/269 [14:21<00:00,  3.20s/it]\n",
            "                 Class     Images  Instances          P          R      mAP50   mAP50-95: 100% 18/18 [00:30<00:00,  1.67s/it]\n",
            "                   all        570       1775      0.804      0.816      0.866      0.735\n",
            "\n",
            "      Epoch    GPU_mem   box_loss   cls_loss   dfl_loss  Instances       Size\n",
            "      42/99        13G     0.6356     0.5358     0.9804         72        640: 100% 269/269 [14:20<00:00,  3.20s/it]\n",
            "                 Class     Images  Instances          P          R      mAP50   mAP50-95: 100% 18/18 [00:29<00:00,  1.66s/it]\n",
            "                   all        570       1775      0.823      0.808      0.871      0.736\n",
            "\n",
            "      Epoch    GPU_mem   box_loss   cls_loss   dfl_loss  Instances       Size\n",
            "      43/99        13G     0.6255     0.5231     0.9702        110        640: 100% 269/269 [14:26<00:00,  3.22s/it]\n",
            "                 Class     Images  Instances          P          R      mAP50   mAP50-95: 100% 18/18 [00:29<00:00,  1.66s/it]\n",
            "                   all        570       1775      0.856      0.781      0.863      0.728\n",
            "\n",
            "      Epoch    GPU_mem   box_loss   cls_loss   dfl_loss  Instances       Size\n",
            "      44/99        13G     0.6212     0.5148     0.9671        129        640: 100% 269/269 [14:34<00:00,  3.25s/it]\n",
            "                 Class     Images  Instances          P          R      mAP50   mAP50-95: 100% 18/18 [00:29<00:00,  1.67s/it]\n",
            "                   all        570       1775      0.841      0.779      0.868      0.736\n",
            "\n",
            "      Epoch    GPU_mem   box_loss   cls_loss   dfl_loss  Instances       Size\n",
            "      45/99        13G     0.6199     0.5123     0.9711         85        640: 100% 269/269 [14:17<00:00,  3.19s/it]\n",
            "                 Class     Images  Instances          P          R      mAP50   mAP50-95: 100% 18/18 [00:29<00:00,  1.63s/it]\n",
            "                   all        570       1775      0.843      0.779      0.874       0.74\n",
            "\n",
            "      Epoch    GPU_mem   box_loss   cls_loss   dfl_loss  Instances       Size\n",
            "      46/99        13G     0.6137     0.5088     0.9667         93        640: 100% 269/269 [14:29<00:00,  3.23s/it]\n",
            "                 Class     Images  Instances          P          R      mAP50   mAP50-95: 100% 18/18 [00:31<00:00,  1.72s/it]\n",
            "                   all        570       1775      0.848      0.801      0.876      0.743\n",
            "\n",
            "      Epoch    GPU_mem   box_loss   cls_loss   dfl_loss  Instances       Size\n",
            "      47/99        13G     0.6231     0.5155     0.9698         91        640: 100% 269/269 [14:27<00:00,  3.22s/it]\n",
            "                 Class     Images  Instances          P          R      mAP50   mAP50-95: 100% 18/18 [00:29<00:00,  1.65s/it]\n",
            "                   all        570       1775      0.823      0.803      0.871      0.746\n",
            "\n",
            "      Epoch    GPU_mem   box_loss   cls_loss   dfl_loss  Instances       Size\n",
            "      48/99        13G      0.611     0.5069     0.9673         95        640: 100% 269/269 [14:08<00:00,  3.15s/it]\n",
            "                 Class     Images  Instances          P          R      mAP50   mAP50-95: 100% 18/18 [00:29<00:00,  1.65s/it]\n",
            "                   all        570       1775      0.836      0.805      0.866       0.74\n",
            "\n",
            "      Epoch    GPU_mem   box_loss   cls_loss   dfl_loss  Instances       Size\n",
            "      49/99        13G     0.5998     0.4964     0.9603        116        640: 100% 269/269 [14:40<00:00,  3.27s/it]\n",
            "                 Class     Images  Instances          P          R      mAP50   mAP50-95: 100% 18/18 [00:30<00:00,  1.71s/it]\n",
            "                   all        570       1775      0.859      0.774      0.869      0.744\n",
            "\n",
            "      Epoch    GPU_mem   box_loss   cls_loss   dfl_loss  Instances       Size\n",
            "      50/99        13G     0.6039     0.5051     0.9722         83        640:  15% 41/269 [02:21<13:50,  3.64s/it]"
          ]
        }
      ]
    },
    {
      "cell_type": "code",
      "source": [
        "%cd {HOME}/yolov9\n",
        "\n",
        "!python val.py \\\n",
        "--img 640 --batch 16 --conf 0.001 --iou 0.7 --device 0 \\\n",
        "--data '/content/drive/MyDrive/Dataset/CE/ce.yaml' \\\n",
        "--weights {HOME}/yolov9/runs/train/exp/weights/best.pt"
      ],
      "metadata": {
        "id": "R2O0v0vdxm-a"
      },
      "execution_count": null,
      "outputs": []
    },
    {
      "cell_type": "code",
      "source": [
        "!python detect.py \\\n",
        "--img 1280 --conf 0.1 --device 0 \\\n",
        "--weights {HOME}/yolov9/runs/train/exp/weights/best.pt \\\n",
        "--source '/content/drive/MyDrive/Dataset/CE/Chemical Apparatus Image Dataset/images/test/'"
      ],
      "metadata": {
        "id": "nvfCjRnGx4Xb"
      },
      "execution_count": null,
      "outputs": []
    }
  ],
  "metadata": {
    "colab": {
      "provenance": [],
      "gpuType": "T4",
      "include_colab_link": true
    },
    "interpreter": {
      "hash": "de5e368ab5494158da905fb8b1c2e4fef8844fbfaace7cceca0beab983df3a80"
    },
    "kernelspec": {
      "display_name": "Python 3",
      "name": "python3"
    },
    "language_info": {
      "codemirror_mode": {
        "name": "ipython",
        "version": 3
      },
      "file_extension": ".py",
      "mimetype": "text/x-python",
      "name": "python",
      "nbconvert_exporter": "python",
      "pygments_lexer": "ipython3",
      "version": "3.8.5"
    },
    "accelerator": "GPU"
  },
  "nbformat": 4,
  "nbformat_minor": 0
}