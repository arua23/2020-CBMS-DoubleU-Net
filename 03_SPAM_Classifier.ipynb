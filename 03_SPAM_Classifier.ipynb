{
  "nbformat": 4,
  "nbformat_minor": 0,
  "metadata": {
    "colab": {
      "provenance": [],
      "collapsed_sections": [
        "u8EJvGV9u6nr"
      ],
      "authorship_tag": "ABX9TyPlnJmCtHJX0s3ZSwRZelkN",
      "include_colab_link": true
    },
    "kernelspec": {
      "name": "python3",
      "display_name": "Python 3"
    },
    "language_info": {
      "name": "python"
    }
  },
  "cells": [
    {
      "cell_type": "markdown",
      "metadata": {
        "id": "view-in-github",
        "colab_type": "text"
      },
      "source": [
        "<a href=\"https://colab.research.google.com/github/arua23/2020-CBMS-DoubleU-Net/blob/master/03_SPAM_Classifier.ipynb\" target=\"_parent\"><img src=\"https://colab.research.google.com/assets/colab-badge.svg\" alt=\"Open In Colab\"/></a>"
      ]
    },
    {
      "cell_type": "markdown",
      "source": [
        "Downloading the dataset"
      ],
      "metadata": {
        "id": "zHN32scduqS9"
      }
    },
    {
      "cell_type": "code",
      "source": [
        "import os\n",
        "import tarfile\n",
        "import urllib.request\n",
        "\n",
        "DOWNLOAD_ROOT = 'https://spamassassin.apache.org/old/publiccorpus/'\n",
        "HAM_URL = DOWNLOAD_ROOT + '20021010_easy_ham.tar.bz2'\n",
        "SPAM_URL = DOWNLOAD_ROOT + '20021010_spam.tar.bz2'\n",
        "SPAM_PATH = os.path.join('datasets', 'spam')\n",
        "\n",
        "def fetch_spam_data(spam_url=SPAM_URL, spam_path=SPAM_PATH):\n",
        "    if not os.path.isdir(spam_path):\n",
        "        os.makedirs(spam_path)\n",
        "    for filename, url in (('ham.tar.bz2', HAM_URL), ('spam.tar.bz2', SPAM_URL)):\n",
        "        path = os.path.join(spam_path, filename)\n",
        "        if not os.path.isfile(path):\n",
        "            urllib.request.urlretrieve(url, path)\n",
        "        tar_bz2_file = tarfile.open(path)\n",
        "        tar_bz2_file.extractall(path=SPAM_PATH)\n",
        "        tar_bz2_file.close()\n",
        "\n",
        "# fetch_spam_data()"
      ],
      "metadata": {
        "id": "K-bJmbWDupb-"
      },
      "execution_count": null,
      "outputs": []
    },
    {
      "cell_type": "markdown",
      "source": [
        "Saving the dataset into Google Drive"
      ],
      "metadata": {
        "id": "-BLCfSgTw_ee"
      }
    },
    {
      "cell_type": "code",
      "execution_count": null,
      "metadata": {
        "colab": {
          "base_uri": "https://localhost:8080/"
        },
        "id": "loGtqegsui9r",
        "outputId": "4cf0f5b6-7cd3-4079-b1d1-b089ebcfdd3d"
      },
      "outputs": [
        {
          "output_type": "stream",
          "name": "stdout",
          "text": [
            "Drive already mounted at /content/drive; to attempt to forcibly remount, call drive.mount(\"/content/drive\", force_remount=True).\n"
          ]
        }
      ],
      "source": [
        "from google.colab import drive\n",
        "drive.mount('/content/drive')\n",
        "\n",
        "save_path = '/content/drive/MyDrive/Machine Learning Projects/Hands On Machine Learning/SPAM_classifier/'\n",
        "\n",
        "# # Copying the downloaded files\n",
        "\n",
        "# import shutil\n",
        "# shutil.copytree('/content/datasets/spam', save_path, dirs_exist_ok= True)\n"
      ]
    },
    {
      "cell_type": "code",
      "source": [
        "# After copying the files\n",
        "\n",
        "ham_path = os.path.join(save_path, 'easy_ham')\n",
        "spam_path = os.path.join(save_path, 'spam')\n",
        "\n",
        "ham_filenames = [name for name in sorted(os.listdir(ham_path)) if len(name) > 20]\n",
        "spam_filenames = [name for name in sorted(os.listdir(spam_path)) if len(name) > 20]\n",
        "\n",
        "print(f'Number of ham emails: {len(ham_filenames)}')\n",
        "print(f'Number of spam emails: {len(spam_filenames)}')"
      ],
      "metadata": {
        "colab": {
          "base_uri": "https://localhost:8080/"
        },
        "id": "s7o6uJSF0UK1",
        "outputId": "4a1b5c86-c6f8-4c31-b950-e3748e1641b0"
      },
      "execution_count": null,
      "outputs": [
        {
          "output_type": "stream",
          "name": "stdout",
          "text": [
            "Number of ham emails: 2551\n",
            "Number of spam emails: 501\n"
          ]
        }
      ]
    },
    {
      "cell_type": "code",
      "source": [
        "ham_filenames[:10]"
      ],
      "metadata": {
        "colab": {
          "base_uri": "https://localhost:8080/"
        },
        "id": "1CiH4DNpiUKu",
        "outputId": "ddbca28d-5591-4e44-9909-94607bd68ea3"
      },
      "execution_count": null,
      "outputs": [
        {
          "output_type": "execute_result",
          "data": {
            "text/plain": [
              "['0001.ea7e79d3153e7469e7a9c3e0af6a357e',\n",
              " '0002.b3120c4bcbf3101e661161ee7efcb8bf',\n",
              " '0003.acfc5ad94bbd27118a0d8685d18c89dd',\n",
              " '0004.e8d5727378ddde5c3be181df593f1712',\n",
              " '0005.8c3b9e9c0f3f183ddaf7592a11b99957',\n",
              " '0006.ee8b0dba12856155222be180ba122058',\n",
              " '0007.c75188382f64b090022fa3b095b020b0',\n",
              " '0008.20bc0b4ba2d99aae1c7098069f611a9b',\n",
              " '0009.435ae292d75abb1ca492dcc2d5cf1570',\n",
              " '0010.4996141de3f21e858c22f88231a9f463']"
            ]
          },
          "metadata": {},
          "execution_count": 54
        }
      ]
    },
    {
      "cell_type": "markdown",
      "source": [
        "Reading the emails"
      ],
      "metadata": {
        "id": "ljueOXucQD6f"
      }
    },
    {
      "cell_type": "code",
      "source": [
        "import email\n",
        "import email.policy\n",
        "\n",
        "# Custom funtion for loading the emails\n",
        "\n",
        "# def load_email(is_spam, file_name, email_path = save_path):\n",
        "#     directory = 'spam' if is_spam else 'easy_ham'\n",
        "#     with open(os.path.join(email_path, directory, file_name), 'rb') as f:\n",
        "#         return email.parser.BytesParser(policy = email.policy.default).parse(f)\n",
        "\n",
        "def load_email(file_path):\n",
        "    with open(file_path, 'rb') as f:\n",
        "        return email.parser.BytesParser(policy = email.policy.default).parse(f)\n"
      ],
      "metadata": {
        "id": "vea_M7uVP4DW"
      },
      "execution_count": null,
      "outputs": []
    },
    {
      "cell_type": "code",
      "source": [
        "# Loading the ham emails first\n",
        "ham_emails = [load_email(os.path.join(ham_path, file_path)) for file_path in ham_filenames]\n",
        "# Loading the spam emails\n",
        "spam_emails = [load_email(os.path.join(spam_path, file_path)) for file_path in spam_filenames]"
      ],
      "metadata": {
        "id": "B2of9AlQWWTs"
      },
      "execution_count": null,
      "outputs": []
    },
    {
      "cell_type": "code",
      "source": [
        "# Printing a sample ham email\n",
        "print(ham_emails[1].get_content().strip())"
      ],
      "metadata": {
        "colab": {
          "base_uri": "https://localhost:8080/"
        },
        "id": "8JQ1pGnfmI64",
        "outputId": "e5c84502-11ee-4ad6-eb80-46532541cdc3"
      },
      "execution_count": null,
      "outputs": [
        {
          "output_type": "stream",
          "name": "stdout",
          "text": [
            "Martin A posted:\n",
            "Tassos Papadopoulos, the Greek sculptor behind the plan, judged that the\n",
            " limestone of Mount Kerdylio, 70 miles east of Salonika and not far from the\n",
            " Mount Athos monastic community, was ideal for the patriotic sculpture. \n",
            " \n",
            " As well as Alexander's granite features, 240 ft high and 170 ft wide, a\n",
            " museum, a restored amphitheatre and car park for admiring crowds are\n",
            "planned\n",
            "---------------------\n",
            "So is this mountain limestone or granite?\n",
            "If it's limestone, it'll weather pretty fast.\n",
            "\n",
            "------------------------ Yahoo! Groups Sponsor ---------------------~-->\n",
            "4 DVDs Free +s&p Join Now\n",
            "http://us.click.yahoo.com/pt6YBB/NXiEAA/mG3HAA/7gSolB/TM\n",
            "---------------------------------------------------------------------~->\n",
            "\n",
            "To unsubscribe from this group, send an email to:\n",
            "forteana-unsubscribe@egroups.com\n",
            "\n",
            " \n",
            "\n",
            "Your use of Yahoo! Groups is subject to http://docs.yahoo.com/info/terms/\n"
          ]
        }
      ]
    },
    {
      "cell_type": "code",
      "source": [
        "# Printing a smaple spam email\n",
        "print(spam_emails[6].get_content().strip())"
      ],
      "metadata": {
        "colab": {
          "base_uri": "https://localhost:8080/"
        },
        "id": "Wko0M-8SkOGD",
        "outputId": "d421312a-7e3b-464a-f20a-0a291233ced1"
      },
      "execution_count": null,
      "outputs": [
        {
          "output_type": "stream",
          "name": "stdout",
          "text": [
            "A POWERHOUSE GIFTING PROGRAM You Don't Want To Miss! \n",
            " \n",
            "  GET IN WITH THE FOUNDERS! \n",
            "The MAJOR PLAYERS are on This ONE\n",
            "For ONCE be where the PlayerS are\n",
            "This is YOUR Private Invitation\n",
            "\n",
            "EXPERTS ARE CALLING THIS THE FASTEST WAY \n",
            "TO HUGE CASH FLOW EVER CONCEIVED\n",
            "Leverage $1,000 into $50,000 Over and Over Again\n",
            "\n",
            "THE QUESTION HERE IS:\n",
            "YOU EITHER WANT TO BE WEALTHY \n",
            "OR YOU DON'T!!!\n",
            "WHICH ONE ARE YOU?\n",
            "I am tossing you a financial lifeline and for your sake I \n",
            "Hope you GRAB onto it and hold on tight For the Ride of youR life!\n",
            "\n",
            "Testimonials\n",
            "\n",
            "Hear what average people are doing their first few days:\n",
            "�We've received 8,000 in 1 day and we are doing that over and over again!' Q.S. in AL\n",
            " �I'm a single mother in FL and I've received 12,000 in the last 4 days.� D. S. in FL\n",
            "�I was not sure about this when I sent off my $1,000 pledge, but I got back $2,000 the very next day!� L.L. in KY\n",
            "�I didn't have the money, so I found myself a partner to work this with. We have received $4,000 over the last 2 days. \n",
            "I think I made the right decision; don't you?� K. C. in FL\n",
            "�I pick up $3,000 my first day and I  they gave me free leads and all the training, you can too!� J.W. in CA\n",
            "\n",
            "ANNOUNCING: We will CLOSE your sales for YOU! And Help you get a Fax Blast IMMEDIATELY Upon Your Entry!!!    YOU Make the MONEY!!!\n",
            "FREE LEADS!!! TRAINING!!!\n",
            "\n",
            "$$DON'T WAIT!!! CALL NOW $$\n",
            "FAX BACK TO: 1-800-421-6318 OR Call 1-800-896-6568 \n",
            "\n",
            "Name__________________________________Phone___________________________________________\n",
            "\n",
            "Fax_____________________________________Email____________________________________________\n",
            "\n",
            "Best Time To Call_________________________Time Zone________________________________________\n",
            "\n",
            "This message is sent in compliance of the new e-mail bill. \"Per Section 301, Paragraph (a)(2)(C) of S. 1618, further transmissions by the sender of this email may be stopped, at no cost to you, by sending a reply to this email address with the word \"REMOVE\" in the subject line. Errors, omissions, and exceptions excluded.\n",
            " \n",
            "This is NOT spam! I have compiled this list from our Replicate Database, relative to Seattle Marketing Group, The Gigt, or Turbo Team for the sole purpose of these communications. Your continued inclusion is ONLY by your gracious permission. If you wish to not receive this mail from me, please send an email to tesrewinter@yahoo.com with \"Remove\" in the subject and you will be deleted immediately.\n"
          ]
        }
      ]
    },
    {
      "cell_type": "markdown",
      "source": [
        "# Getting Structures of the emails"
      ],
      "metadata": {
        "id": "eXPhTloomWvP"
      }
    },
    {
      "cell_type": "code",
      "source": [
        "# Custom function for getting email structures\n",
        "def get_email_structure(email):\n",
        "    if isinstance(email, str):\n",
        "      return email\n",
        "    payload = email.get_payload()\n",
        "    if isinstance(payload, list):\n",
        "      return 'multipart({})'.format(', '.join([\n",
        "          get_email_structure(sub_email)\n",
        "          for sub_email in payload\n",
        "      ]))\n",
        "    else:\n",
        "      return email.get_content_type()"
      ],
      "metadata": {
        "id": "dEPIVz0nl5it"
      },
      "execution_count": null,
      "outputs": []
    },
    {
      "cell_type": "code",
      "source": [
        "from collections import Counter\n",
        "\n",
        "def structures_counter(emails):\n",
        "    structures = Counter()\n",
        "    for email in emails:\n",
        "        structure = get_email_structure(email)\n",
        "        structures[structure] += 1\n",
        "    return structures"
      ],
      "metadata": {
        "id": "HhRQLsONm7Oa"
      },
      "execution_count": null,
      "outputs": []
    },
    {
      "cell_type": "code",
      "source": [
        "structures_counter(ham_emails).most_common()"
      ],
      "metadata": {
        "colab": {
          "base_uri": "https://localhost:8080/"
        },
        "id": "0vc96rVbm-5L",
        "outputId": "355afdf1-2560-4607-902c-d4ea5484beda"
      },
      "execution_count": null,
      "outputs": [
        {
          "output_type": "execute_result",
          "data": {
            "text/plain": [
              "[('text/plain', 2453),\n",
              " ('multipart(text/plain, application/pgp-signature)', 72),\n",
              " ('multipart(text/plain, text/html)', 8),\n",
              " ('multipart(text/plain, text/plain)', 4),\n",
              " ('multipart(text/plain)', 3),\n",
              " ('multipart(text/plain, application/octet-stream)', 2),\n",
              " ('multipart(text/plain, text/enriched)', 1),\n",
              " ('multipart(text/plain, application/ms-tnef, text/plain)', 1),\n",
              " ('multipart(multipart(text/plain, text/plain, text/plain), application/pgp-signature)',\n",
              "  1),\n",
              " ('multipart(text/plain, video/mng)', 1),\n",
              " ('multipart(text/plain, multipart(text/plain))', 1),\n",
              " ('multipart(text/plain, application/x-pkcs7-signature)', 1),\n",
              " ('multipart(text/plain, multipart(text/plain, text/plain), text/rfc822-headers)',\n",
              "  1),\n",
              " ('multipart(text/plain, multipart(text/plain, text/plain), multipart(multipart(text/plain, application/x-pkcs7-signature)))',\n",
              "  1),\n",
              " ('multipart(text/plain, application/x-java-applet)', 1)]"
            ]
          },
          "metadata": {},
          "execution_count": 61
        }
      ]
    },
    {
      "cell_type": "code",
      "source": [
        "structures_counter(spam_emails).most_common()"
      ],
      "metadata": {
        "colab": {
          "base_uri": "https://localhost:8080/"
        },
        "id": "zNoMhZPjnEaC",
        "outputId": "1af91a29-a392-4382-b21b-ecda39a2ed2a"
      },
      "execution_count": null,
      "outputs": [
        {
          "output_type": "execute_result",
          "data": {
            "text/plain": [
              "[('text/plain', 222),\n",
              " ('text/html', 181),\n",
              " ('multipart(text/plain, text/html)', 45),\n",
              " ('multipart(text/html)', 19),\n",
              " ('multipart(text/plain)', 19),\n",
              " ('multipart(multipart(text/html))', 5),\n",
              " ('multipart(text/plain, image/jpeg)', 3),\n",
              " ('multipart(text/html, application/octet-stream)', 2),\n",
              " ('multipart(text/plain, application/octet-stream)', 1),\n",
              " ('multipart(text/html, text/plain)', 1),\n",
              " ('multipart(multipart(text/html), application/octet-stream, image/jpeg)', 1),\n",
              " ('multipart(multipart(text/plain, text/html), image/gif)', 1),\n",
              " ('multipart/alternative', 1)]"
            ]
          },
          "metadata": {},
          "execution_count": 62
        }
      ]
    },
    {
      "cell_type": "code",
      "source": [
        "# Header value for a spam email\n",
        "for header, value in spam_emails[6].items():\n",
        "    print(header,\":\",value)"
      ],
      "metadata": {
        "colab": {
          "base_uri": "https://localhost:8080/"
        },
        "id": "bqhWnMLgnMiG",
        "outputId": "aa610b76-261b-41a7-ad11-378a3b856204"
      },
      "execution_count": null,
      "outputs": [
        {
          "output_type": "stream",
          "name": "stdout",
          "text": [
            "Return-Path : <Thecashsystem@firemail.de>\n",
            "Delivered-To : zzzz@localhost.example.com\n",
            "Received : from localhost (localhost [127.0.0.1])\tby phobos.labs.example.com (Postfix) with ESMTP id 3453043F99\tfor <zzzz@localhost>; Thu, 22 Aug 2002 11:58:24 -0400 (EDT)\n",
            "Received : from mail.webnote.net [193.120.211.219]\tby localhost with POP3 (fetchmail-5.9.0)\tfor zzzz@localhost (single-drop); Thu, 22 Aug 2002 16:58:24 +0100 (IST)\n",
            "Received : from mailbox-13.st1.spray.net (mailbox-13.st1.spray.net [212.78.202.113])\tby webnote.net (8.9.3/8.9.3) with ESMTP id QAA05573\tfor <zzzz@example.com>; Thu, 22 Aug 2002 16:55:29 +0100\n",
            "Received : from freesource (user-24-214-168-210.knology.net [24.214.168.210])\tby mailbox-13.st1.spray.net (Postfix) with ESMTP\tid ADDD03E25C; Thu, 22 Aug 2002 17:50:55 +0200 (DST)\n",
            "Message-ID : <413-220028422154219900@freesource>\n",
            "X-Priority : 1\n",
            "To : 1 <thecashsystem@firemail.de>\n",
            "From : TheCashSystem <Thecashsystem@firemail.de>\n",
            "Subject : RE: Your Bank Account Information \n",
            "Date : Thu, 22 Aug 2002 10:42:19 -0500\n",
            "MIME-Version : 1.0\n",
            "Content-type : text/plain; charset=\"US-ASCII\"\n",
            "X-MIME-Autoconverted : from quoted-printable to 8bit by webnote.net id QAA05573\n",
            "Content-Transfer-Encoding : 8bit\n"
          ]
        }
      ]
    },
    {
      "cell_type": "code",
      "source": [
        "# Header value for a ham email\n",
        "for header, value in ham_emails[1].items():\n",
        "    print(header,\":\",value)"
      ],
      "metadata": {
        "colab": {
          "base_uri": "https://localhost:8080/"
        },
        "id": "elml0hKDnh_R",
        "outputId": "bb6ccab5-65a9-4d4b-9f0e-844fae0c62dc"
      },
      "execution_count": null,
      "outputs": [
        {
          "output_type": "stream",
          "name": "stdout",
          "text": [
            "Return-Path : <Steve_Burt@cursor-system.com>\n",
            "Delivered-To : zzzz@localhost.netnoteinc.com\n",
            "Received : from localhost (localhost [127.0.0.1])\tby phobos.labs.netnoteinc.com (Postfix) with ESMTP id BE12E43C34\tfor <zzzz@localhost>; Thu, 22 Aug 2002 07:46:38 -0400 (EDT)\n",
            "Received : from phobos [127.0.0.1]\tby localhost with IMAP (fetchmail-5.9.0)\tfor zzzz@localhost (single-drop); Thu, 22 Aug 2002 12:46:38 +0100 (IST)\n",
            "Received : from n20.grp.scd.yahoo.com (n20.grp.scd.yahoo.com    [66.218.66.76]) by dogma.slashnull.org (8.11.6/8.11.6) with SMTP id    g7MBkTZ05087 for <zzzz@example.com>; Thu, 22 Aug 2002 12:46:29 +0100\n",
            "X-Egroups-Return : sentto-2242572-52726-1030016790-zzzz=example.com@returns.groups.yahoo.com\n",
            "Received : from [66.218.67.196] by n20.grp.scd.yahoo.com with NNFMP;    22 Aug 2002 11:46:30 -0000\n",
            "X-Sender : steve.burt@cursor-system.com\n",
            "X-Apparently-To : zzzzteana@yahoogroups.com\n",
            "Received : (EGP: mail-8_1_0_1); 22 Aug 2002 11:46:29 -0000\n",
            "Received : (qmail 11764 invoked from network); 22 Aug 2002 11:46:29 -0000\n",
            "Received : from unknown (66.218.66.217) by m3.grp.scd.yahoo.com with QMQP;    22 Aug 2002 11:46:29 -0000\n",
            "Received : from unknown (HELO mailgateway.cursor-system.com) (62.189.7.27)    by mta2.grp.scd.yahoo.com with SMTP; 22 Aug 2002 11:46:29 -0000\n",
            "Received : from exchange1.cps.local (unverified) by    mailgateway.cursor-system.com (Content Technologies SMTPRS 4.2.10) with    ESMTP id <T5cde81f695ac1d100407d@mailgateway.cursor-system.com> for    <forteana@yahoogroups.com>; Thu, 22 Aug 2002 13:14:10 +0100\n",
            "Received : by exchange1.cps.local with Internet Mail Service (5.5.2653.19)    id <PXX6AT23>; Thu, 22 Aug 2002 12:46:27 +0100\n",
            "Message-Id : <5EC2AD6D2314D14FB64BDA287D25D9EF12B4F6@exchange1.cps.local>\n",
            "To : \"'zzzzteana@yahoogroups.com'\" <zzzzteana@yahoogroups.com>\n",
            "X-Mailer : Internet Mail Service (5.5.2653.19)\n",
            "X-Egroups-From : Steve Burt <steve.burt@cursor-system.com>\n",
            "From : Steve Burt <Steve_Burt@cursor-system.com>\n",
            "X-Yahoo-Profile : pyruse\n",
            "MIME-Version : 1.0\n",
            "Mailing-List : list zzzzteana@yahoogroups.com; contact    forteana-owner@yahoogroups.com\n",
            "Delivered-To : mailing list zzzzteana@yahoogroups.com\n",
            "Precedence : bulk\n",
            "List-Unsubscribe : <mailto:zzzzteana-unsubscribe@yahoogroups.com>\n",
            "Date : Thu, 22 Aug 2002 12:46:18 +0100\n",
            "Subject : [zzzzteana] RE: Alexander\n",
            "Reply-To : zzzzteana@yahoogroups.com\n",
            "Content-Type : text/plain; charset=\"US-ASCII\"\n",
            "Content-Transfer-Encoding : 7bit\n"
          ]
        }
      ]
    },
    {
      "cell_type": "markdown",
      "source": [
        "## Subject of the ham and spam emails"
      ],
      "metadata": {
        "id": "gGEYpMDPoB0P"
      }
    },
    {
      "cell_type": "code",
      "source": [
        "print(ham_emails[1]['Subject'])"
      ],
      "metadata": {
        "colab": {
          "base_uri": "https://localhost:8080/"
        },
        "id": "Bh0uJ4XZnqZR",
        "outputId": "266b372f-f53e-4406-9b3b-f3c89a786571"
      },
      "execution_count": null,
      "outputs": [
        {
          "output_type": "stream",
          "name": "stdout",
          "text": [
            "[zzzzteana] RE: Alexander\n"
          ]
        }
      ]
    },
    {
      "cell_type": "code",
      "source": [
        "print(spam_emails[6]['Subject'])"
      ],
      "metadata": {
        "colab": {
          "base_uri": "https://localhost:8080/"
        },
        "id": "Z4k2v4Mmn6Il",
        "outputId": "9dda5ea1-a1cc-4810-92d2-f2b9b1603ca0"
      },
      "execution_count": null,
      "outputs": [
        {
          "output_type": "stream",
          "name": "stdout",
          "text": [
            "RE: Your Bank Account Information \n"
          ]
        }
      ]
    },
    {
      "cell_type": "markdown",
      "source": [
        "# Splitting the dataset"
      ],
      "metadata": {
        "id": "NrDMdhZsoIF0"
      }
    },
    {
      "cell_type": "code",
      "source": [
        "from sklearn.model_selection import train_test_split\n",
        "import numpy as np\n",
        "\n",
        "X = np.array(ham_emails + spam_emails, dtype = 'object')\n",
        "y = np.array([0] * len(ham_emails) + [1] * len(spam_emails))\n",
        "X_train, X_test, y_train, y_test = train_test_split(X, y, test_size = 0.2, random_state = 42)"
      ],
      "metadata": {
        "id": "G3kTXSRMoAo-"
      },
      "execution_count": null,
      "outputs": []
    },
    {
      "cell_type": "markdown",
      "source": [
        "## HTML to plain text generation"
      ],
      "metadata": {
        "id": "p2P_9LWuo2xm"
      }
    },
    {
      "cell_type": "code",
      "source": [
        "import re\n",
        "from html import unescape\n",
        "\n",
        "# Custom function for reading all html tags and converting them into plain text\n",
        "\n",
        "def html_to_plain_text(html):\n",
        "    if isinstance(html, bytes):\n",
        "        html = html.decode('latin-1')\n",
        "    text = re.sub('<head.*?>.*?</head>', '', html, flags=re.M | re.S | re.I)\n",
        "    text = re.sub('<a\\s.*?>', ' HYPERLINK ', text, flags=re.M | re.S | re.I)\n",
        "    text = re.sub('<.*?>', '', text, flags=re.M | re.S)\n",
        "    text = re.sub(r'(\\s*\\n)+', '\\n', text, flags=re.M | re.S)\n",
        "    return unescape(text)\n"
      ],
      "metadata": {
        "id": "dxY8ZS9uo2PG"
      },
      "execution_count": null,
      "outputs": []
    },
    {
      "cell_type": "markdown",
      "source": [
        "### HTML contents in a sample spam email"
      ],
      "metadata": {
        "id": "EWMzt3e5r-sL"
      }
    },
    {
      "cell_type": "code",
      "source": [
        "html_spam_email = [emails for emails in X_train[y_train==1]\n",
        "                   if get_email_structure(emails)=='text/html']\n",
        "sample_html_spam = html_spam_email[7]\n",
        "print(sample_html_spam.get_content().strip()[:1000], '...')"
      ],
      "metadata": {
        "colab": {
          "base_uri": "https://localhost:8080/"
        },
        "id": "lK5o42ybr7Z_",
        "outputId": "0cc354e6-d5e9-4ee5-d532-8359d40cd0d3"
      },
      "execution_count": null,
      "outputs": [
        {
          "output_type": "stream",
          "name": "stdout",
          "text": [
            "<html>\n",
            "<head>\n",
            "</head>\n",
            "<center>\n",
            "<h1>\n",
            "<b><font face=\"Arial Black\"><font color=\"#0000FF\"><font size=+2>&nbsp;\n",
            "Free Personal and Business Grants</font></font></font></b></h1></center>\n",
            "\n",
            "<p>&nbsp;\n",
            "<center><table BORDER=0 CELLSPACING=0 CELLPADDING=10 WIDTH=\"419\" BGCOLOR=\"#0000FF\" >\n",
            "<tr>\n",
            "<td WIDTH=\"397\" BGCOLOR=\"#FFFF00\">\n",
            "<center>\n",
            "<h2>\n",
            "<font face=\"Arial Narrow\">\" Qualify for <u>at least</u> $25,000 in free\n",
            "grants money - Guaranteed! \"</font></h2></center>\n",
            "</td>\n",
            "</tr>\n",
            "</table></center>\n",
            "\n",
            "<center>\n",
            "<h3>\n",
            "<font face=\"Arial\"><font size=+0>Each day over One Million Dollars in Free\n",
            "Government<br>\n",
            "Grants&nbsp; is given away to people just like you for a wide<br>\n",
            "variety of Business And Personal Needs</font></font></h3></center>\n",
            "<font face=\"Verdana\"><font size=-1>&nbsp;&nbsp;&nbsp;&nbsp;&nbsp;&nbsp;&nbsp;\n",
            "Dear Grant Seeker,</font></font>\n",
            "<blockquote><font face=\"Verdana\"><font size=-1>In a moment, I'll tell you\n",
            "exactly <b>HOW &amp; WHERE</b> to get Grants. This <b>MONEY</b> has to\n",
            "be given away, <b>WHY</b ...\n"
          ]
        }
      ]
    },
    {
      "cell_type": "markdown",
      "source": [
        "### Plain Text from the HTML sapm sample"
      ],
      "metadata": {
        "id": "C3VSOYuPIsIB"
      }
    },
    {
      "cell_type": "code",
      "source": [
        "print(html_to_plain_text(sample_html_spam.get_content())[:1000], '...')"
      ],
      "metadata": {
        "colab": {
          "base_uri": "https://localhost:8080/"
        },
        "id": "s_LKGnv_Ioxe",
        "outputId": "969351d9-7d26-469d-f72e-5914be1f1da1"
      },
      "execution_count": null,
      "outputs": [
        {
          "output_type": "stream",
          "name": "stdout",
          "text": [
            "\n",
            " \n",
            "Free Personal and Business Grants\n",
            " \n",
            "\" Qualify for at least $25,000 in free\n",
            "grants money - Guaranteed! \"\n",
            "Each day over One Million Dollars in Free\n",
            "Government\n",
            "Grants  is given away to people just like you for a wide\n",
            "variety of Business And Personal Needs\n",
            "       \n",
            "Dear Grant Seeker,\n",
            "In a moment, I'll tell you\n",
            "exactly HOW & WHERE to get Grants. This MONEY has to\n",
            "be given away, WHY not to YOU?\n",
            "You may be thinking, \"How\n",
            "can I get some of this Free Grants Money\"\n",
            "Maybe you think it's impossible\n",
            "to get free money?\n",
            "Let me tell you it's not\n",
            "impossible! It's a fact, ordinary people and businesses all across the\n",
            "United States are receiving millions of dollars from these Government and\n",
            "Private Foundation's everyday.\n",
            "Who Can Apply?\n",
            "ANYONE can apply\n",
            "for a Grant from 18 years old and up!\n",
            "Grants from $500.00 to $50,000.00\n",
            "are possible! GRANTS don't have to be paid back,\n",
            "EVER! Claim\n",
            "your slice of the FREE American Pie.\n",
            "This money is not a loan,\n",
            "Trying to get money through a conventional bank can be ver ...\n"
          ]
        }
      ]
    },
    {
      "cell_type": "markdown",
      "source": [
        "## HTML content in a HAM email"
      ],
      "metadata": {
        "id": "u8EJvGV9u6nr"
      }
    },
    {
      "cell_type": "code",
      "source": [
        "html_ham_emails = [emails for emails in X_train[y_train==0]\n",
        "                   if get_email_structure(emails)=='multipart(text/plain, text/html)']\n",
        "\n",
        "# print(len(html_ham_emails))\n",
        "sample_html_ham = html_ham_emails[1]\n",
        "\n",
        "# Custom content manager for mutipart emails\n",
        "content_manager = email.contentmanager.ContentManager()\n",
        "\n",
        "def handle_multipart_alternative(msg):\n",
        "    text_part = None\n",
        "    html_part = None\n",
        "    for part in msg.get_payload():\n",
        "        if part.get_content_type() == 'text/plain':\n",
        "            text_part = part.get_payload(decode = True)\n",
        "        elif part.get_content_type() == 'text/html':\n",
        "            html_part = part.get_payload(decode = True)\n",
        "    return text_part, html_to_plain_text(html_part)\n",
        "\n",
        "# Register the handler with content manager\n",
        "content_manager.add_get_handler('multipart/alternative', handle_multipart_alternative)\n",
        "\n",
        "sample_text, sample_html = content_manager.get_content(sample_html_ham)\n",
        "\n",
        "# Converting bytes to string\n",
        "if isinstance(sample_text, bytes):\n",
        "    sample_text = sample_text.decode()\n",
        "if isinstance(sample_html, bytes):\n",
        "    sample_html = sample_html.decode()\n",
        "\n",
        "# sample_text = sample_text.split('\\n')\n",
        "# sample_html = sample_html.split('\\n')\n",
        "\n",
        "print(sample_text[:1000], '...')\n",
        "print(sample_html[:1000], '...')\n",
        "\n",
        "# print(sample_html_ham.get_content())\n"
      ],
      "metadata": {
        "colab": {
          "base_uri": "https://localhost:8080/"
        },
        "id": "_xUQ9o1uu-3e",
        "outputId": "388216ee-b3bd-495f-efa3-4216ecce8c92"
      },
      "execution_count": null,
      "outputs": [
        {
          "output_type": "stream",
          "name": "stdout",
          "text": [
            "To view this newsletter in full-color:\n",
            "http://newsletter.mediaunspun.com/index000021410.cfm\n",
            "\n",
            "Media Unspun\n",
            "What the Press is Reporting and Why (www.mediaunspun.com)\n",
            "-----------------------------------------------------------------\n",
            "October 8, 2002\n",
            "\n",
            "-----------------------------------------------------------------\n",
            "IN THIS ISSUE\n",
            "-----------------------------------------------------------------\n",
            "* BUSH COVERS THE WATERFRONT\n",
            "* THE BIGGEST CABLE HOOKUP\n",
            "\n",
            "-----------------------------------------------------------------\n",
            "EDITOR'S NOTE\n",
            "-----------------------------------------------------------------\n",
            "Is Media Unspun useful to you? Then pass it on to a colleague.\n",
            "The more readers we have, the more successful we'll be. The more \n",
            "successful we are, the more useful we can be to you. Pass it\n",
            "on!\n",
            "\n",
            "Media Unspun serves business news and analysis, authoritatively\n",
            "and irreverently, every business day. An annual subscription\n",
            "costs $50, less than a dollar a week. If your four-week free\n",
            "trial is coming to an e ...\n",
            "\n",
            "\t\t\t HYPERLINK\n",
            "\t\t\tPass it on...\n",
            "\t\t\t\t HYPERLINK\n",
            "\t\t\t\t\tWhat the Press is Reporting and Why ( HYPERLINK www.mediaunspun.com)\n",
            "\t\t\t\t\t\t\tTuesday, October 8, 2002\n",
            "Top Spins...\n",
            "\t\t\t\t HYPERLINK\n",
            "\t\t\tBush Covers the Waterfront\n",
            "\t\t\t\t HYPERLINK\n",
            "\t\t\tThe Biggest Cable Hookup\n",
            "\t\t\t\t HYPERLINK\n",
            "\t\t\tOther Stories\n",
            "\t HYPERLINK\n",
            "\t\t\tEditor's Note\n",
            "\t\t\t\t\tIs Media Unspun useful to you? Then pass it on to a colleague. The more readers we have, the more successful we'll be. The more successful we are, the more useful we can be to you. Pass it on!\n",
            "Media Unspun serves business news and analysis, authoritatively and irreverently, every business day. An annual subscription costs $50, less than a dollar a week. If your four-week free trial is coming to an end soon, please visit  HYPERLINK http://www.mediaunspun.com/subscribe.html  and sign up via credit card or check.\n",
            "Sponsor\n",
            "\t HYPERLINK\n",
            "\t\t\t\t\tPop!Tech 2002\n",
            "October 18 - 20, 2002: Camden, Maine\n",
            "Join 500 big thinkers to discuss\n",
            "the collision of technology and culture\n",
            "Register now at ...\n"
          ]
        }
      ]
    },
    {
      "cell_type": "code",
      "source": [
        "# Plain Text from the HTML ham sample\n",
        "\n",
        "print(sample_text[:1000], '...')\n",
        "print(sample_html[:1000], '...')\n"
      ],
      "metadata": {
        "colab": {
          "base_uri": "https://localhost:8080/"
        },
        "id": "8n9h8jRaJLiz",
        "outputId": "82e4efa6-8891-4045-aac4-6f9a7654e86e"
      },
      "execution_count": null,
      "outputs": [
        {
          "output_type": "stream",
          "name": "stdout",
          "text": [
            "To view this newsletter in full-color:\n",
            "http://newsletter.mediaunspun.com/index000021410.cfm\n",
            "\n",
            "Media Unspun\n",
            "What the Press is Reporting and Why (www.mediaunspun.com)\n",
            "-----------------------------------------------------------------\n",
            "October 8, 2002\n",
            "\n",
            "-----------------------------------------------------------------\n",
            "IN THIS ISSUE\n",
            "-----------------------------------------------------------------\n",
            "* BUSH COVERS THE WATERFRONT\n",
            "* THE BIGGEST CABLE HOOKUP\n",
            "\n",
            "-----------------------------------------------------------------\n",
            "EDITOR'S NOTE\n",
            "-----------------------------------------------------------------\n",
            "Is Media Unspun useful to you? Then pass it on to a colleague.\n",
            "The more readers we have, the more successful we'll be. The more \n",
            "successful we are, the more useful we can be to you. Pass it\n",
            "on!\n",
            "\n",
            "Media Unspun serves business news and analysis, authoritatively\n",
            "and irreverently, every business day. An annual subscription\n",
            "costs $50, less than a dollar a week. If your four-week free\n",
            "trial is coming to an e ...\n",
            "\n",
            "\t\t\t HYPERLINK\n",
            "\t\t\tPass it on...\n",
            "\t\t\t\t HYPERLINK\n",
            "\t\t\t\t\tWhat the Press is Reporting and Why ( HYPERLINK www.mediaunspun.com)\n",
            "\t\t\t\t\t\t\tTuesday, October 8, 2002\n",
            "Top Spins...\n",
            "\t\t\t\t HYPERLINK\n",
            "\t\t\tBush Covers the Waterfront\n",
            "\t\t\t\t HYPERLINK\n",
            "\t\t\tThe Biggest Cable Hookup\n",
            "\t\t\t\t HYPERLINK\n",
            "\t\t\tOther Stories\n",
            "\t HYPERLINK\n",
            "\t\t\tEditor's Note\n",
            "\t\t\t\t\tIs Media Unspun useful to you? Then pass it on to a colleague. The more readers we have, the more successful we'll be. The more successful we are, the more useful we can be to you. Pass it on!\n",
            "Media Unspun serves business news and analysis, authoritatively and irreverently, every business day. An annual subscription costs $50, less than a dollar a week. If your four-week free trial is coming to an end soon, please visit  HYPERLINK http://www.mediaunspun.com/subscribe.html  and sign up via credit card or check.\n",
            "Sponsor\n",
            "\t HYPERLINK\n",
            "\t\t\t\t\tPop!Tech 2002\n",
            "October 18 - 20, 2002: Camden, Maine\n",
            "Join 500 big thinkers to discuss\n",
            "the collision of technology and culture\n",
            "Register now at ...\n"
          ]
        }
      ]
    },
    {
      "cell_type": "markdown",
      "source": [
        "## Using email as input and getting plain text as optput"
      ],
      "metadata": {
        "id": "HDn0wvGWJJRZ"
      }
    },
    {
      "cell_type": "code",
      "source": [
        "def email_to_text(email):\n",
        "    html = None\n",
        "    for part in email.walk():\n",
        "        ctype = part.get_content_type()\n",
        "        if not ctype in ('text/plain', 'text/html'):\n",
        "            continue\n",
        "        try:\n",
        "            content = part.get_content()\n",
        "        except:\n",
        "            content = str(part.get_payload())\n",
        "        if ctype == 'text/plain':\n",
        "          return content\n",
        "        else:\n",
        "          html = content\n",
        "    if html:\n",
        "      return html_to_plain_text(html)"
      ],
      "metadata": {
        "id": "ksOZ10HjJIqQ"
      },
      "execution_count": null,
      "outputs": []
    },
    {
      "cell_type": "code",
      "source": [
        "print(html_to_plain_text(sample_html_spam.get_content())[:500], '...')"
      ],
      "metadata": {
        "colab": {
          "base_uri": "https://localhost:8080/"
        },
        "id": "5GHGmaWLKJRP",
        "outputId": "4f0bbaa5-0fca-4919-c9ee-270beaeecdf5"
      },
      "execution_count": null,
      "outputs": [
        {
          "output_type": "stream",
          "name": "stdout",
          "text": [
            "\n",
            " \n",
            "Free Personal and Business Grants\n",
            " \n",
            "\" Qualify for at least $25,000 in free\n",
            "grants money - Guaranteed! \"\n",
            "Each day over One Million Dollars in Free\n",
            "Government\n",
            "Grants  is given away to people just like you for a wide\n",
            "variety of Business And Personal Needs\n",
            "       \n",
            "Dear Grant Seeker,\n",
            "In a moment, I'll tell you\n",
            "exactly HOW & WHERE to get Grants. This MONEY has to\n",
            "be given away, WHY not to YOU?\n",
            "You may be thinking, \"How\n",
            "can I get some of this Free Grants Money\"\n",
            "Maybe you think it's impossible\n",
            "to get ...\n"
          ]
        }
      ]
    },
    {
      "cell_type": "markdown",
      "source": [
        "# Using NLTK for creating word count sparse matrix"
      ],
      "metadata": {
        "id": "Fs0byiWuENjb"
      }
    },
    {
      "cell_type": "markdown",
      "source": [
        "### Installing NLTK and urlextract"
      ],
      "metadata": {
        "id": "1xK3QlNjGac6"
      }
    },
    {
      "cell_type": "code",
      "source": [
        "%pip install nltk"
      ],
      "metadata": {
        "colab": {
          "base_uri": "https://localhost:8080/"
        },
        "id": "_EXVBFMpEVKp",
        "outputId": "92f6ec50-7aa3-44df-e0d6-a7c81aecf454"
      },
      "execution_count": null,
      "outputs": [
        {
          "output_type": "stream",
          "name": "stdout",
          "text": [
            "Requirement already satisfied: nltk in /usr/local/lib/python3.10/dist-packages (3.8.1)\n",
            "Requirement already satisfied: click in /usr/local/lib/python3.10/dist-packages (from nltk) (8.1.7)\n",
            "Requirement already satisfied: joblib in /usr/local/lib/python3.10/dist-packages (from nltk) (1.4.2)\n",
            "Requirement already satisfied: regex>=2021.8.3 in /usr/local/lib/python3.10/dist-packages (from nltk) (2024.5.15)\n",
            "Requirement already satisfied: tqdm in /usr/local/lib/python3.10/dist-packages (from nltk) (4.66.5)\n"
          ]
        }
      ]
    },
    {
      "cell_type": "code",
      "source": [
        "# Testing the nltk toolkit\n",
        "try:\n",
        "  import nltk\n",
        "  stemmer = nltk.PorterStemmer()\n",
        "  for word in ('computer', 'compuations', 'compute', 'computer'):\n",
        "      print(word, '=> ', stemmer.stem(word))\n",
        "except ImportError:\n",
        "  print('Nltk not installed')"
      ],
      "metadata": {
        "colab": {
          "base_uri": "https://localhost:8080/"
        },
        "id": "lJk6ZulOEaau",
        "outputId": "cf6c6a5a-f48a-459d-9eb0-b25906e49eeb"
      },
      "execution_count": null,
      "outputs": [
        {
          "output_type": "stream",
          "name": "stdout",
          "text": [
            "computer =>  comput\n",
            "compuations =>  compuat\n",
            "compute =>  comput\n",
            "computer =>  comput\n"
          ]
        }
      ]
    },
    {
      "cell_type": "code",
      "source": [
        "%pip install -q -U urlextract"
      ],
      "metadata": {
        "id": "bDVycuYHGWMh"
      },
      "execution_count": null,
      "outputs": []
    },
    {
      "cell_type": "code",
      "source": [
        "# Testing urlextract\n",
        "try:\n",
        "  import urlextract\n",
        "  url_extractor = urlextract.URLExtract()\n",
        "  print(url_extractor.find_urls('Will this detect github.com or https://github.com/arua23/handson-ml2/blob/master/03_classification.ipynb'))\n",
        "except ImportError:\n",
        "  print('urlextract not installed')"
      ],
      "metadata": {
        "colab": {
          "base_uri": "https://localhost:8080/"
        },
        "id": "SMupv9zSGYTW",
        "outputId": "e73f0642-87f5-48a4-e569-4410754eef58"
      },
      "execution_count": null,
      "outputs": [
        {
          "output_type": "stream",
          "name": "stdout",
          "text": [
            "['github.com', 'https://github.com/arua23/handson-ml2/blob/master/03_classification.ipynb']\n"
          ]
        }
      ]
    },
    {
      "cell_type": "markdown",
      "source": [
        "## Tranforming emails in to word count arrays"
      ],
      "metadata": {
        "id": "yMx2ugqeHa7K"
      }
    },
    {
      "cell_type": "code",
      "source": [
        "from sklearn.base import BaseEstimator, TransformerMixin\n",
        "\n",
        "class email_to_word_counter(BaseEstimator, TransformerMixin):\n",
        "  def __init__(self, strip_headers = True, lower_case = True, remove_punc = True,\n",
        "               replace_urls = True, replace_num = True, stemming = True):\n",
        "    self.strip_headers = strip_headers\n",
        "    self.lower_case = lower_case\n",
        "    self.remove_punc = remove_punc\n",
        "    self.replace_urls = replace_urls\n",
        "    self.replace_num = replace_num\n",
        "    self.stemming = stemming\n",
        "\n",
        "  def fit(self, X, y = None):\n",
        "    return self\n",
        "\n",
        "  def transform(self, X, y = None):\n",
        "    X_transformed = []\n",
        "    for email in X:\n",
        "      text = email_to_text(email) or ''\n",
        "      if self.lower_case:\n",
        "        text = text.lower()\n",
        "      if self.replace_urls and url_extractor is not None:\n",
        "        urls = list(set(url_extractor.find_urls(text)))\n",
        "        urls.sort(key = lambda url: len(url), reverse = True)\n",
        "        for url in urls:\n",
        "          text = text.replace(url, ' URL ')\n",
        "      if self.replace_num:\n",
        "        text = re.sub(r'\\d+(?:\\.\\d*)?(?:[eE][+-]?\\d+)?', 'NUMBER', text)\n",
        "      if self.remove_punc:\n",
        "        text = re.sub(r'\\W+', ' ', text, flags=re.M)\n",
        "\n",
        "      word_counts = Counter(text.split())\n",
        "\n",
        "      if self.stemming and stemmer is not None:\n",
        "        stemmed_word_counts = Counter()\n",
        "        for word, count in word_counts.items():\n",
        "          stemmed_word = stemmer.stem(word)\n",
        "          stemmed_word_counts[stemmed_word]+= count\n",
        "        word_counts = stemmed_word_counts\n",
        "\n",
        "      X_transformed.append(word_counts)\n",
        "\n",
        "    return np.array(X_transformed)"
      ],
      "metadata": {
        "id": "xhjFrRsGHWPy"
      },
      "execution_count": null,
      "outputs": []
    },
    {
      "cell_type": "code",
      "source": [
        "# Testing on the first sample email\n",
        "X_first = X_train[:1]\n",
        "X_first_word_counts = email_to_word_counter().fit_transform(X_first)\n",
        "\n",
        "print(X_first_word_counts)"
      ],
      "metadata": {
        "colab": {
          "base_uri": "https://localhost:8080/"
        },
        "id": "M2LJXHMrNyoz",
        "outputId": "de37751d-4c30-4c94-9cb2-7af2a5df37ee"
      },
      "execution_count": null,
      "outputs": [
        {
          "output_type": "stream",
          "name": "stdout",
          "text": [
            "[Counter({'it': 4, 'pay': 3, 't': 3, 'the': 2, 'you': 2, 'without': 2, 's': 2, 'i': 2, 'a': 2, 'can': 2, 'look': 2, 'at': 2, 'if': 1, 'creator': 1, 'didnt': 1, 'say': 1, 'could': 1, 'have': 1, 'theft': 1, 'so': 1, 'simpl': 1, 'hell': 1, 'that': 1, 'even': 1, 'in': 1, 'all': 1, 'major': 1, 'holi': 1, 'book': 1, 'wow': 1, 've': 1, 'got': 1, 'great': 1, 'idea': 1, 'll': 1, 'hire': 1, 'skywrit': 1, 'to': 1, 'write': 1, 'thi': 1, 'then': 1, 'lock': 1, 'up': 1, 'everybodi': 1, 'who': 1, 'and': 1, 'didn': 1, 'fail': 1, 'jesu': 1, 'is': 1, 'on': 1, 'my': 1, 'side': 1, 'url': 1})]\n"
          ]
        }
      ]
    },
    {
      "cell_type": "code",
      "source": [
        "# Testing on the first 5 sample email\n",
        "X_few = X_train[:5]\n",
        "X_few_word_counts = email_to_word_counter().fit_transform(X_few)\n",
        "\n",
        "print(X_few_word_counts)\n",
        "print(type(X_few_word_counts))"
      ],
      "metadata": {
        "colab": {
          "base_uri": "https://localhost:8080/"
        },
        "id": "_wf5CUIAQ71R",
        "outputId": "d2a31736-77cf-4d24-d4a5-136729cfa76d"
      },
      "execution_count": null,
      "outputs": [
        {
          "output_type": "stream",
          "name": "stdout",
          "text": [
            "[Counter({'it': 4, 'pay': 3, 't': 3, 'the': 2, 'you': 2, 'without': 2, 's': 2, 'i': 2, 'a': 2, 'can': 2, 'look': 2, 'at': 2, 'if': 1, 'creator': 1, 'didnt': 1, 'say': 1, 'could': 1, 'have': 1, 'theft': 1, 'so': 1, 'simpl': 1, 'hell': 1, 'that': 1, 'even': 1, 'in': 1, 'all': 1, 'major': 1, 'holi': 1, 'book': 1, 'wow': 1, 've': 1, 'got': 1, 'great': 1, 'idea': 1, 'll': 1, 'hire': 1, 'skywrit': 1, 'to': 1, 'write': 1, 'thi': 1, 'then': 1, 'lock': 1, 'up': 1, 'everybodi': 1, 'who': 1, 'and': 1, 'didn': 1, 'fail': 1, 'jesu': 1, 'is': 1, 'on': 1, 'my': 1, 'side': 1, 'url': 1})\n",
            " Counter({'i': 8, 'number': 7, 'to': 5, 'the': 5, 'of': 4, 'com': 3, 'we': 3, 'realli': 3, 'look': 3, 'it': 3, 'that': 3, 'with': 3, 'date': 2, 'welch': 2, 'panasa': 2, 't': 2, 'but': 2, 'is': 2, 'what': 2, 'would': 2, 'time': 2, 'for': 2, 'a': 2, 'have': 2, 'm': 2, 'not': 2, 'will': 2, 'exmh': 2, 'worker': 2, 'tue': 1, 'aug': 1, 'from': 1, 'brent': 1, 'messag': 1, 'id': 1, 'numbervaanumb': 1, 'blackcomb': 1, 'if': 1, 'are': 1, 'allow': 1, 'assum': 1, 'or': 1, 'higher': 1, 'which': 1, 'can': 1, 'then': 1, 'could': 1, 'add': 1, 'selecttypein': 1, 'procedur': 1, 'ye': 1, 'at': 1, 'fix': 1, 'there': 1, 'code': 1, 'quit': 1, 'gener': 1, 'almost': 1, 'no': 1, 'understand': 1, 'anyth': 1, 'mean': 1, 'so': 1, 'didn': 1, 'think': 1, 'corrupt': 1, 'knowlwedg': 1, 'semant': 1, 'fetch': 1, 'be': 1, 'best': 1, 'thing': 1, 'do': 1, 'ran': 1, 'out': 1, 'last': 1, 'night': 1, 'while': 1, 'better': 1, 'place': 1, 'similar': 1, 'check': 1, 'gone': 1, 'directli': 1, 'regexp': 1, 'up': 1, 'all': 1, 'latest': 1, 'tcl': 1, 'chang': 1, 'and': 1, 'sure': 1, 'today': 1, 'keep': 1, 'kre': 1, '_______________________________________________': 1, 'mail': 1, 'list': 1, 'redhat': 1, 'url': 1})\n",
            " Counter({'number': 5, 'i': 3, 'list': 3, 'at': 2, 'think': 2, 'more': 2, 'url': 2, 'rpm': 2, 'on': 1, 'wed': 1, 'matthia': 1, 'saou': 1, 'wrote': 1, 'll': 1, 'use': 1, 'thi': 1, 'with': 1, 'whatev': 1, 'switch': 1, 'and': 1, 'where': 1, 'possibl': 1, 'nifti': 1, 've': 1, 'been': 1, 'about': 1, 'that': 1, 'too': 1, 'ani': 1, 'good': 1, 'idea': 1, 'how': 1, 'to': 1, 'document': 1, 'those': 1, 'target': 1, 'descript': 1, 'ill': 1, 'skyttä': 1, 'vill': 1, 'skytta': 1, '_______________________________________________': 1, 'mail': 1, 'freshrpm': 1, 'net': 1})\n",
            " Counter({'and': 14, 'a': 11, 'to': 10, 'the': 10, 'i': 9, 'number': 8, 's': 7, 'you': 6, 'all': 6, 'can': 6, 'that': 6, 'it': 5, 'of': 5, 'as': 5, 'or': 5, 't': 5, 'like': 4, 'but': 4, 'free': 3, 'is': 3, 'even': 3, 'your': 3, 'get': 3, 'm': 3, 'in': 3, 'with': 3, 'use': 3, 'on': 2, 'say': 2, 'accept': 2, 'form': 2, 'also': 2, 'be': 2, 'into': 2, 'thi': 2, 'sell': 2, 'small': 2, 'think': 2, 'mail': 2, 'if': 2, 'we': 2, 'whatev': 2, 'up': 2, 'd': 2, 'me': 2, 'link': 2, 'featur': 2, 'do': 2, 'saturday': 1, 'septemb': 1, 'pm': 1, 'struggl': 1, 'although': 1, 'total': 1, 'shock': 1, 'numbernin': 1, 'employ': 1, 'websit': 1, 'design': 1, 'out': 1, 'there': 1, 'truth': 1, 'webform': 1, 'u': 1, 'countri': 1, 'incred': 1, 'true': 1, 'web': 1, 'multipl': 1, 'telephon': 1, 'partit': 1, 'manag': 1, 'step': 1, 'done': 1, 'without': 1, 'exclus': 1, 'right': 1, 'wallet': 1, 'world': 1, 'second': 1, 'richest': 1, 'corpor': 1, 'assum': 1, 'cisco': 1, 'still': 1, 'vendor': 1, 'lock': 1, 'busi': 1, 'their': 1, 'transact': 1, 'fee': 1, 'tith': 1, 'peopl': 1, 'place': 1, 'would': 1, 'not': 1, 'unsolicit': 1, 'hadn': 1, 'invent': 1, 'them': 1, 'though': 1, 'perhap': 1, 'order': 1, 'enron': 1, 'mug': 1, 'king': 1, 'hell': 1, 'pnumberp': 1, 'met': 1, 'commerci': 1, 'forum': 1, 'wa': 1, 'rock': 1, 'yesterday': 1, 'they': 1, 'took': 1, 'greg': 1, 'extra': 1, 'serotonin': 1, 'lit': 1, 'made': 1, 'success': 1, 'go': 1, 'person': 1, 'address': 1, 'palett': 1, 'could': 1, 'occupi': 1, 'own': 1, 'rent': 1, 'move': 1, 'so': 1, 'repli': 1, 'whitepap': 1, 'site': 1, 'wouldn': 1, 'just': 1, 'call': 1, 'real': 1, 'deal': 1, 'okay': 1, 'let': 1, 'factorytown': 1, 'guangzhou': 1, 'batteri': 1, 'acid': 1, 'supervisor': 1, 'for': 1, 'multin': 1, 'sometim': 1, 'buy': 1, 'bnumber': 1, 'e': 1, 'stori': 1, 'written': 1, 'way': 1, 'today': 1, 'numberlb': 1, 'numberm': 1, 'tall': 1, 'mophead': 1, 'pearlec': 1, 'teeth': 1, 'excel': 1, 'sex': 1, 'who': 1, 'solari': 1, 'nntp': 1, 'client': 1, 'got': 1, 'mere': 1, 'read': 1, 'basenumb': 1, 'messag': 1, 'alphabet': 1, 'letter': 1, 'word': 1, 'didn': 1, 'come': 1, 'from': 1, 'bibl': 1, 'calculu': 1, 'thank': 1, 'class': 1, 'catamit': 1, 'ye': 1, 'what': 1, 'normal': 1, 'happen': 1, 'engin': 1, 'put': 1, 'an': 1, 'input': 1, 'valid': 1, 'parser': 1, 'backend': 1, 'creativ': 1, 'director': 1, 'don': 1, 'give': 1, 'shit': 1, 'long': 1, 'blue': 1, 'ha': 1, 'my': 1, 'press': 1, 'releas': 1, 'nnumberkknumberd': 1, 'prrnumberzzewnumberlz': 1, 'ahr': 1, 'numbervnumberl': 1, 'thought': 1, 'had': 1, 'coldfus': 1, 'compatibli': 1, 'plugin': 1, 'servlet': 1, 'overhyp': 1, 'unimpl': 1, 'repeatedli': 1, 'openli': 1, 'rakish': 1, 'numbermb': 1, 'brand': 1, 'first': 1, 'download': 1, 'mesh': 1, 'well': 1, 'budget': 1, 'polici': 1})\n",
            " Counter({'free': 9, 'url': 9, 'number': 9, 'you': 7, 'your': 6, 'to': 6, 'from': 5, 'lesson': 4, 'and': 4, 'get': 4, 'email': 4, 'learn': 3, 'comput': 3, 'video': 3, 'a': 3, 'titl': 2, 'in': 2, 'professor': 2, 'on': 2, 'of': 2, 'over': 2, 'million': 2, 'today': 2, 'what': 2, 'see': 2, 'like': 2, 'window': 2, 'work': 2, 'onli': 2, 'thi': 2, 'receiv': 2, 'if': 2, 'pleas': 2, 'the': 2, 'cd': 1, 'rom': 1, 'choos': 1, 'new': 1, 'skill': 1, 'hour': 1, 'compar': 1, 'at': 1, 'quick': 1, 'easi': 1, 'subject': 1, 'choic': 1, 'for': 1, 'year': 1, 'ha': 1, 'taught': 1, 'peopl': 1, 'how': 1, 'use': 1, 'their': 1, 'we': 1, 'can': 1, 'teach': 1, 'too': 1, 'simpl': 1, 'is': 1, 'way': 1, 'play': 1, 'screen': 1, 'complet': 1, 'comprehens': 1, 'risk': 1, 'satisfi': 1, 'user': 1, 'select': 1, 'these': 1, 'avail': 1, 'outlook': 1, 'excel': 1, 'access': 1, 'powerpoint': 1, 'frontpag': 1, 'quicken': 1, 'internet': 1, 'word': 1, 'wordperfect': 1, 'lotu': 1, 'do': 1, 'pay': 1, 'ship': 1, 'handl': 1, 'conveni': 1, 'bill': 1, 'visa': 1, 'mastercard': 1, 'america': 1, 'express': 1, 'or': 1, 'discov': 1, 'card': 1, 'compat': 1, 'some': 1, 'restrict': 1, 'may': 1, 'appli': 1, 'where': 1, 'instant': 1, 'win': 1, 'happen': 1, 'daili': 1, 'custom': 1, 'servic': 1, 'wa': 1, 'sent': 1, 'ler': 1, 'lerctr': 1, 'org': 1, 'are': 1, 'becaus': 1, 'opt': 1, 'period': 1, 'with': 1, 'special': 1, 'offer': 1, 'd': 1, 'unsubscrib': 1, 'futur': 1, 'below': 1, 'abov': 1, 'link': 1, 'doe': 1, 'not': 1, 'copi': 1, 'past': 1, 'entir': 1, 'into': 1, 'browser': 1})]\n",
            "<class 'numpy.ndarray'>\n"
          ]
        }
      ]
    },
    {
      "cell_type": "markdown",
      "source": [
        "## Converting Word Counts to Vectors"
      ],
      "metadata": {
        "id": "a_TybUIeR6Gp"
      }
    },
    {
      "cell_type": "code",
      "source": [
        "from scipy.sparse import csr_matrix\n",
        "\n",
        "class word_count_to_vector(BaseEstimator, TransformerMixin):\n",
        "  def __init__(self, vocab_size = 10):\n",
        "    self.vocab_size = vocab_size\n",
        "\n",
        "  def fit(self, X, y = None):\n",
        "    total_count = Counter()\n",
        "\n",
        "    for word_count in X:\n",
        "      for word, count in word_count.items():\n",
        "        total_count[word] += min(count, 10)\n",
        "\n",
        "    most_common = total_count.most_common()[:self.vocab_size]\n",
        "    self.vocablary_ = {word : index + 1 for index, (word, count) in enumerate(most_common)}\n",
        "    return self\n",
        "\n",
        "  def transform(self, X, y = None):\n",
        "    rows = []\n",
        "    cols = []\n",
        "    data = []\n",
        "\n",
        "    for row, word_count in enumerate(X):\n",
        "      for word, count in word_count.items():\n",
        "        rows.append(rows)\n",
        "        cols.append(self.vocablary_.get(word, 0))\n",
        "        data.append(count)\n",
        "    return csr_matrix((data, (rows, cols)), shape = (len(X), self.vocab_size + 1))"
      ],
      "metadata": {
        "id": "vkh4kSCbRgST"
      },
      "execution_count": null,
      "outputs": []
    },
    {
      "cell_type": "code",
      "source": [
        "vocab_transformer = word_count_to_vector(vocab_size = 10)\n",
        "X_few_vectors = vocab_transformer.fit_transform(X_few_word_counts)\n",
        "\n",
        "print(X_few_vectors)"
      ],
      "metadata": {
        "colab": {
          "base_uri": "https://localhost:8080/",
          "height": 339
        },
        "id": "zr46viNeVJXM",
        "outputId": "0d950c61-7c27-40bb-e20b-dcecdf1517fe"
      },
      "execution_count": null,
      "outputs": [
        {
          "output_type": "error",
          "ename": "KeyboardInterrupt",
          "evalue": "",
          "traceback": [
            "\u001b[0;31m---------------------------------------------------------------------------\u001b[0m",
            "\u001b[0;31mKeyboardInterrupt\u001b[0m                         Traceback (most recent call last)",
            "\u001b[0;32m<ipython-input-89-7fe2b1751e00>\u001b[0m in \u001b[0;36m<cell line: 2>\u001b[0;34m()\u001b[0m\n\u001b[1;32m      1\u001b[0m \u001b[0mvocab_transformer\u001b[0m \u001b[0;34m=\u001b[0m \u001b[0mword_count_to_vector\u001b[0m\u001b[0;34m(\u001b[0m\u001b[0mvocab_size\u001b[0m \u001b[0;34m=\u001b[0m \u001b[0;36m10\u001b[0m\u001b[0;34m)\u001b[0m\u001b[0;34m\u001b[0m\u001b[0;34m\u001b[0m\u001b[0m\n\u001b[0;32m----> 2\u001b[0;31m \u001b[0mX_few_vectors\u001b[0m \u001b[0;34m=\u001b[0m \u001b[0mvocab_transformer\u001b[0m\u001b[0;34m.\u001b[0m\u001b[0mfit_transform\u001b[0m\u001b[0;34m(\u001b[0m\u001b[0mX_few_word_counts\u001b[0m\u001b[0;34m)\u001b[0m\u001b[0;34m\u001b[0m\u001b[0;34m\u001b[0m\u001b[0m\n\u001b[0m\u001b[1;32m      3\u001b[0m \u001b[0;34m\u001b[0m\u001b[0m\n\u001b[1;32m      4\u001b[0m \u001b[0mprint\u001b[0m\u001b[0;34m(\u001b[0m\u001b[0mX_few_vectors\u001b[0m\u001b[0;34m)\u001b[0m\u001b[0;34m\u001b[0m\u001b[0;34m\u001b[0m\u001b[0m\n",
            "\u001b[0;32m/usr/local/lib/python3.10/dist-packages/sklearn/utils/_set_output.py\u001b[0m in \u001b[0;36mwrapped\u001b[0;34m(self, X, *args, **kwargs)\u001b[0m\n\u001b[1;32m    155\u001b[0m     \u001b[0;34m@\u001b[0m\u001b[0mwraps\u001b[0m\u001b[0;34m(\u001b[0m\u001b[0mf\u001b[0m\u001b[0;34m)\u001b[0m\u001b[0;34m\u001b[0m\u001b[0;34m\u001b[0m\u001b[0m\n\u001b[1;32m    156\u001b[0m     \u001b[0;32mdef\u001b[0m \u001b[0mwrapped\u001b[0m\u001b[0;34m(\u001b[0m\u001b[0mself\u001b[0m\u001b[0;34m,\u001b[0m \u001b[0mX\u001b[0m\u001b[0;34m,\u001b[0m \u001b[0;34m*\u001b[0m\u001b[0margs\u001b[0m\u001b[0;34m,\u001b[0m \u001b[0;34m**\u001b[0m\u001b[0mkwargs\u001b[0m\u001b[0;34m)\u001b[0m\u001b[0;34m:\u001b[0m\u001b[0;34m\u001b[0m\u001b[0;34m\u001b[0m\u001b[0m\n\u001b[0;32m--> 157\u001b[0;31m         \u001b[0mdata_to_wrap\u001b[0m \u001b[0;34m=\u001b[0m \u001b[0mf\u001b[0m\u001b[0;34m(\u001b[0m\u001b[0mself\u001b[0m\u001b[0;34m,\u001b[0m \u001b[0mX\u001b[0m\u001b[0;34m,\u001b[0m \u001b[0;34m*\u001b[0m\u001b[0margs\u001b[0m\u001b[0;34m,\u001b[0m \u001b[0;34m**\u001b[0m\u001b[0mkwargs\u001b[0m\u001b[0;34m)\u001b[0m\u001b[0;34m\u001b[0m\u001b[0;34m\u001b[0m\u001b[0m\n\u001b[0m\u001b[1;32m    158\u001b[0m         \u001b[0;32mif\u001b[0m \u001b[0misinstance\u001b[0m\u001b[0;34m(\u001b[0m\u001b[0mdata_to_wrap\u001b[0m\u001b[0;34m,\u001b[0m \u001b[0mtuple\u001b[0m\u001b[0;34m)\u001b[0m\u001b[0;34m:\u001b[0m\u001b[0;34m\u001b[0m\u001b[0;34m\u001b[0m\u001b[0m\n\u001b[1;32m    159\u001b[0m             \u001b[0;31m# only wrap the first output for cross decomposition\u001b[0m\u001b[0;34m\u001b[0m\u001b[0;34m\u001b[0m\u001b[0m\n",
            "\u001b[0;32m/usr/local/lib/python3.10/dist-packages/sklearn/base.py\u001b[0m in \u001b[0;36mfit_transform\u001b[0;34m(self, X, y, **fit_params)\u001b[0m\n\u001b[1;32m    914\u001b[0m         \u001b[0;32mif\u001b[0m \u001b[0my\u001b[0m \u001b[0;32mis\u001b[0m \u001b[0;32mNone\u001b[0m\u001b[0;34m:\u001b[0m\u001b[0;34m\u001b[0m\u001b[0;34m\u001b[0m\u001b[0m\n\u001b[1;32m    915\u001b[0m             \u001b[0;31m# fit method of arity 1 (unsupervised transformation)\u001b[0m\u001b[0;34m\u001b[0m\u001b[0;34m\u001b[0m\u001b[0m\n\u001b[0;32m--> 916\u001b[0;31m             \u001b[0;32mreturn\u001b[0m \u001b[0mself\u001b[0m\u001b[0;34m.\u001b[0m\u001b[0mfit\u001b[0m\u001b[0;34m(\u001b[0m\u001b[0mX\u001b[0m\u001b[0;34m,\u001b[0m \u001b[0;34m**\u001b[0m\u001b[0mfit_params\u001b[0m\u001b[0;34m)\u001b[0m\u001b[0;34m.\u001b[0m\u001b[0mtransform\u001b[0m\u001b[0;34m(\u001b[0m\u001b[0mX\u001b[0m\u001b[0;34m)\u001b[0m\u001b[0;34m\u001b[0m\u001b[0;34m\u001b[0m\u001b[0m\n\u001b[0m\u001b[1;32m    917\u001b[0m         \u001b[0;32melse\u001b[0m\u001b[0;34m:\u001b[0m\u001b[0;34m\u001b[0m\u001b[0;34m\u001b[0m\u001b[0m\n\u001b[1;32m    918\u001b[0m             \u001b[0;31m# fit method of arity 2 (supervised transformation)\u001b[0m\u001b[0;34m\u001b[0m\u001b[0;34m\u001b[0m\u001b[0m\n",
            "\u001b[0;32m/usr/local/lib/python3.10/dist-packages/sklearn/utils/_set_output.py\u001b[0m in \u001b[0;36mwrapped\u001b[0;34m(self, X, *args, **kwargs)\u001b[0m\n\u001b[1;32m    155\u001b[0m     \u001b[0;34m@\u001b[0m\u001b[0mwraps\u001b[0m\u001b[0;34m(\u001b[0m\u001b[0mf\u001b[0m\u001b[0;34m)\u001b[0m\u001b[0;34m\u001b[0m\u001b[0;34m\u001b[0m\u001b[0m\n\u001b[1;32m    156\u001b[0m     \u001b[0;32mdef\u001b[0m \u001b[0mwrapped\u001b[0m\u001b[0;34m(\u001b[0m\u001b[0mself\u001b[0m\u001b[0;34m,\u001b[0m \u001b[0mX\u001b[0m\u001b[0;34m,\u001b[0m \u001b[0;34m*\u001b[0m\u001b[0margs\u001b[0m\u001b[0;34m,\u001b[0m \u001b[0;34m**\u001b[0m\u001b[0mkwargs\u001b[0m\u001b[0;34m)\u001b[0m\u001b[0;34m:\u001b[0m\u001b[0;34m\u001b[0m\u001b[0;34m\u001b[0m\u001b[0m\n\u001b[0;32m--> 157\u001b[0;31m         \u001b[0mdata_to_wrap\u001b[0m \u001b[0;34m=\u001b[0m \u001b[0mf\u001b[0m\u001b[0;34m(\u001b[0m\u001b[0mself\u001b[0m\u001b[0;34m,\u001b[0m \u001b[0mX\u001b[0m\u001b[0;34m,\u001b[0m \u001b[0;34m*\u001b[0m\u001b[0margs\u001b[0m\u001b[0;34m,\u001b[0m \u001b[0;34m**\u001b[0m\u001b[0mkwargs\u001b[0m\u001b[0;34m)\u001b[0m\u001b[0;34m\u001b[0m\u001b[0;34m\u001b[0m\u001b[0m\n\u001b[0m\u001b[1;32m    158\u001b[0m         \u001b[0;32mif\u001b[0m \u001b[0misinstance\u001b[0m\u001b[0;34m(\u001b[0m\u001b[0mdata_to_wrap\u001b[0m\u001b[0;34m,\u001b[0m \u001b[0mtuple\u001b[0m\u001b[0;34m)\u001b[0m\u001b[0;34m:\u001b[0m\u001b[0;34m\u001b[0m\u001b[0;34m\u001b[0m\u001b[0m\n\u001b[1;32m    159\u001b[0m             \u001b[0;31m# only wrap the first output for cross decomposition\u001b[0m\u001b[0;34m\u001b[0m\u001b[0;34m\u001b[0m\u001b[0m\n",
            "\u001b[0;32m<ipython-input-88-b6d24d63d2a3>\u001b[0m in \u001b[0;36mtransform\u001b[0;34m(self, X, y)\u001b[0m\n\u001b[1;32m     26\u001b[0m         \u001b[0mcols\u001b[0m\u001b[0;34m.\u001b[0m\u001b[0mappend\u001b[0m\u001b[0;34m(\u001b[0m\u001b[0mself\u001b[0m\u001b[0;34m.\u001b[0m\u001b[0mvocablary_\u001b[0m\u001b[0;34m.\u001b[0m\u001b[0mget\u001b[0m\u001b[0;34m(\u001b[0m\u001b[0mword\u001b[0m\u001b[0;34m,\u001b[0m \u001b[0;36m0\u001b[0m\u001b[0;34m)\u001b[0m\u001b[0;34m)\u001b[0m\u001b[0;34m\u001b[0m\u001b[0;34m\u001b[0m\u001b[0m\n\u001b[1;32m     27\u001b[0m         \u001b[0mdata\u001b[0m\u001b[0;34m.\u001b[0m\u001b[0mappend\u001b[0m\u001b[0;34m(\u001b[0m\u001b[0mcount\u001b[0m\u001b[0;34m)\u001b[0m\u001b[0;34m\u001b[0m\u001b[0;34m\u001b[0m\u001b[0m\n\u001b[0;32m---> 28\u001b[0;31m     \u001b[0;32mreturn\u001b[0m \u001b[0mcsr_matrix\u001b[0m\u001b[0;34m(\u001b[0m\u001b[0;34m(\u001b[0m\u001b[0mdata\u001b[0m\u001b[0;34m,\u001b[0m \u001b[0;34m(\u001b[0m\u001b[0mrows\u001b[0m\u001b[0;34m,\u001b[0m \u001b[0mcols\u001b[0m\u001b[0;34m)\u001b[0m\u001b[0;34m)\u001b[0m\u001b[0;34m,\u001b[0m \u001b[0mshape\u001b[0m \u001b[0;34m=\u001b[0m \u001b[0;34m(\u001b[0m\u001b[0mlen\u001b[0m\u001b[0;34m(\u001b[0m\u001b[0mX\u001b[0m\u001b[0;34m)\u001b[0m\u001b[0;34m,\u001b[0m \u001b[0mself\u001b[0m\u001b[0;34m.\u001b[0m\u001b[0mvocab_size\u001b[0m \u001b[0;34m+\u001b[0m \u001b[0;36m1\u001b[0m\u001b[0;34m)\u001b[0m\u001b[0;34m)\u001b[0m\u001b[0;34m\u001b[0m\u001b[0;34m\u001b[0m\u001b[0m\n\u001b[0m",
            "\u001b[0;32m/usr/local/lib/python3.10/dist-packages/scipy/sparse/_compressed.py\u001b[0m in \u001b[0;36m__init__\u001b[0;34m(self, arg1, shape, dtype, copy)\u001b[0m\n\u001b[1;32m     53\u001b[0m                 \u001b[0;32mif\u001b[0m \u001b[0mlen\u001b[0m\u001b[0;34m(\u001b[0m\u001b[0marg1\u001b[0m\u001b[0;34m)\u001b[0m \u001b[0;34m==\u001b[0m \u001b[0;36m2\u001b[0m\u001b[0;34m:\u001b[0m\u001b[0;34m\u001b[0m\u001b[0;34m\u001b[0m\u001b[0m\n\u001b[1;32m     54\u001b[0m                     \u001b[0;31m# (data, ij) format\u001b[0m\u001b[0;34m\u001b[0m\u001b[0;34m\u001b[0m\u001b[0m\n\u001b[0;32m---> 55\u001b[0;31m                     \u001b[0mcoo\u001b[0m \u001b[0;34m=\u001b[0m \u001b[0mself\u001b[0m\u001b[0;34m.\u001b[0m\u001b[0m_coo_container\u001b[0m\u001b[0;34m(\u001b[0m\u001b[0marg1\u001b[0m\u001b[0;34m,\u001b[0m \u001b[0mshape\u001b[0m\u001b[0;34m=\u001b[0m\u001b[0mshape\u001b[0m\u001b[0;34m,\u001b[0m \u001b[0mdtype\u001b[0m\u001b[0;34m=\u001b[0m\u001b[0mdtype\u001b[0m\u001b[0;34m)\u001b[0m\u001b[0;34m\u001b[0m\u001b[0;34m\u001b[0m\u001b[0m\n\u001b[0m\u001b[1;32m     56\u001b[0m                     \u001b[0marrays\u001b[0m \u001b[0;34m=\u001b[0m \u001b[0mcoo\u001b[0m\u001b[0;34m.\u001b[0m\u001b[0m_coo_to_compressed\u001b[0m\u001b[0;34m(\u001b[0m\u001b[0mself\u001b[0m\u001b[0;34m.\u001b[0m\u001b[0m_swap\u001b[0m\u001b[0;34m)\u001b[0m\u001b[0;34m\u001b[0m\u001b[0;34m\u001b[0m\u001b[0m\n\u001b[1;32m     57\u001b[0m                     \u001b[0mself\u001b[0m\u001b[0;34m.\u001b[0m\u001b[0mindptr\u001b[0m\u001b[0;34m,\u001b[0m \u001b[0mself\u001b[0m\u001b[0;34m.\u001b[0m\u001b[0mindices\u001b[0m\u001b[0;34m,\u001b[0m \u001b[0mself\u001b[0m\u001b[0;34m.\u001b[0m\u001b[0mdata\u001b[0m\u001b[0;34m,\u001b[0m \u001b[0mself\u001b[0m\u001b[0;34m.\u001b[0m\u001b[0m_shape\u001b[0m \u001b[0;34m=\u001b[0m \u001b[0marrays\u001b[0m\u001b[0;34m\u001b[0m\u001b[0;34m\u001b[0m\u001b[0m\n",
            "\u001b[0;32m/usr/local/lib/python3.10/dist-packages/scipy/sparse/_coo.py\u001b[0m in \u001b[0;36m__init__\u001b[0;34m(self, arg1, shape, dtype, copy)\u001b[0m\n\u001b[1;32m     54\u001b[0m                 \u001b[0mself\u001b[0m\u001b[0;34m.\u001b[0m\u001b[0m_shape\u001b[0m \u001b[0;34m=\u001b[0m \u001b[0mcheck_shape\u001b[0m\u001b[0;34m(\u001b[0m\u001b[0mshape\u001b[0m\u001b[0;34m,\u001b[0m \u001b[0mallow_1d\u001b[0m\u001b[0;34m=\u001b[0m\u001b[0mis_array\u001b[0m\u001b[0;34m)\u001b[0m\u001b[0;34m\u001b[0m\u001b[0;34m\u001b[0m\u001b[0m\n\u001b[1;32m     55\u001b[0m \u001b[0;34m\u001b[0m\u001b[0m\n\u001b[0;32m---> 56\u001b[0;31m                 idx_dtype = self._get_index_dtype(coords,\n\u001b[0m\u001b[1;32m     57\u001b[0m                                                   \u001b[0mmaxval\u001b[0m\u001b[0;34m=\u001b[0m\u001b[0mmax\u001b[0m\u001b[0;34m(\u001b[0m\u001b[0mself\u001b[0m\u001b[0;34m.\u001b[0m\u001b[0mshape\u001b[0m\u001b[0;34m)\u001b[0m\u001b[0;34m,\u001b[0m\u001b[0;34m\u001b[0m\u001b[0;34m\u001b[0m\u001b[0m\n\u001b[1;32m     58\u001b[0m                                                   check_contents=True)\n",
            "\u001b[0;32m/usr/local/lib/python3.10/dist-packages/scipy/sparse/_base.py\u001b[0m in \u001b[0;36m_get_index_dtype\u001b[0;34m(self, arrays, maxval, check_contents)\u001b[0m\n\u001b[1;32m   1347\u001b[0m \u001b[0;34m\u001b[0m\u001b[0m\n\u001b[1;32m   1348\u001b[0m         \u001b[0;31m# Don't check contents for array API\u001b[0m\u001b[0;34m\u001b[0m\u001b[0;34m\u001b[0m\u001b[0m\n\u001b[0;32m-> 1349\u001b[0;31m         return get_index_dtype(arrays,\n\u001b[0m\u001b[1;32m   1350\u001b[0m                                \u001b[0mmaxval\u001b[0m\u001b[0;34m,\u001b[0m\u001b[0;34m\u001b[0m\u001b[0;34m\u001b[0m\u001b[0m\n\u001b[1;32m   1351\u001b[0m                                (check_contents and not isinstance(self, sparray)))\n",
            "\u001b[0;32m/usr/local/lib/python3.10/dist-packages/scipy/sparse/_sputils.py\u001b[0m in \u001b[0;36mget_index_dtype\u001b[0;34m(arrays, maxval, check_contents)\u001b[0m\n\u001b[1;32m    183\u001b[0m \u001b[0;34m\u001b[0m\u001b[0m\n\u001b[1;32m    184\u001b[0m     \u001b[0;32mfor\u001b[0m \u001b[0marr\u001b[0m \u001b[0;32min\u001b[0m \u001b[0marrays\u001b[0m\u001b[0;34m:\u001b[0m\u001b[0;34m\u001b[0m\u001b[0;34m\u001b[0m\u001b[0m\n\u001b[0;32m--> 185\u001b[0;31m         \u001b[0marr\u001b[0m \u001b[0;34m=\u001b[0m \u001b[0mnp\u001b[0m\u001b[0;34m.\u001b[0m\u001b[0masarray\u001b[0m\u001b[0;34m(\u001b[0m\u001b[0marr\u001b[0m\u001b[0;34m)\u001b[0m\u001b[0;34m\u001b[0m\u001b[0;34m\u001b[0m\u001b[0m\n\u001b[0m\u001b[1;32m    186\u001b[0m         \u001b[0;32mif\u001b[0m \u001b[0;32mnot\u001b[0m \u001b[0mnp\u001b[0m\u001b[0;34m.\u001b[0m\u001b[0mcan_cast\u001b[0m\u001b[0;34m(\u001b[0m\u001b[0marr\u001b[0m\u001b[0;34m.\u001b[0m\u001b[0mdtype\u001b[0m\u001b[0;34m,\u001b[0m \u001b[0mnp\u001b[0m\u001b[0;34m.\u001b[0m\u001b[0mint32\u001b[0m\u001b[0;34m)\u001b[0m\u001b[0;34m:\u001b[0m\u001b[0;34m\u001b[0m\u001b[0;34m\u001b[0m\u001b[0m\n\u001b[1;32m    187\u001b[0m             \u001b[0;32mif\u001b[0m \u001b[0mcheck_contents\u001b[0m\u001b[0;34m:\u001b[0m\u001b[0;34m\u001b[0m\u001b[0;34m\u001b[0m\u001b[0m\n",
            "\u001b[0;31mKeyboardInterrupt\u001b[0m: "
          ]
        }
      ]
    }
  ]
}